{
 "cells": [
  {
   "cell_type": "markdown",
   "metadata": {},
   "source": [
    "# Classification Model\n",
    "\n",
    "Do aspects of congress members tell us how how their stocks will do in comparison to the S&P 500? Are there features we can use to watch for whether a congress member will do unusually well?  \n",
    "\n",
    "We are looking into feature importances of our model specifically in order to see the performance. it would also be useful in order to understand how much of what the STOCK Act tells us can be used to monitor congress members' stock performances. "
   ]
  },
  {
   "cell_type": "code",
   "execution_count": 1,
   "metadata": {},
   "outputs": [],
   "source": [
    "import pandas as pd\n",
    "import numpy as np\n",
    "import matplotlib.pyplot as plt\n",
    "\n",
    "from sklearn.model_selection import GridSearchCV, train_test_split\n",
    "from sklearn.tree import DecisionTreeClassifier\n",
    "from sklearn.linear_model import LogisticRegression\n",
    "from sklearn.svm import SVC\n",
    "from sklearn.ensemble import AdaBoostClassifier, BaggingClassifier, ExtraTreesClassifier\n",
    "from sklearn.ensemble import VotingClassifier, GradientBoostingClassifier, RandomForestClassifier\n",
    "from sklearn.metrics import plot_confusion_matrix\n",
    "from sklearn.preprocessing import StandardScaler, PolynomialFeatures\n",
    "from sklearn.pipeline import Pipeline\n",
    "import sklearn.metrics as metrics\n",
    "from sklearn.metrics import accuracy_score\n",
    "from sklearn.metrics import confusion_matrix, plot_confusion_matrix\n",
    "\n",
    "#setting up random seed for project requirements \n",
    "np.random.seed(73)"
   ]
  },
  {
   "cell_type": "code",
   "execution_count": 3,
   "metadata": {},
   "outputs": [],
   "source": [
    "# New\n",
    "#reading in final dataset from EDA \n",
    "df = pd.read_csv('./data/stock_percentage_difference.csv')\n",
    "df['total_raised'] =[int(raised.replace('$','')) for raised in df['total_raised']]\n",
    "df['percent_from_small_donors*'] = [float(pct.replace('%','')) for pct in df['percent_from_small_donors*']]"
   ]
  },
  {
   "cell_type": "code",
   "execution_count": 4,
   "metadata": {},
   "outputs": [],
   "source": [
    "beats_sp = []\n",
    "for i, row in df.iterrows():\n",
    "    if (row['day_180_stock_perc_diff']-row['day_30_stock_perc_diff'])\\\n",
    "    > (row['sp_180_sp_perc_diff'] - row['sp_30_sp_perc_diff']):\n",
    "        beats_sp.append(1)\n",
    "    else:\n",
    "        beats_sp.append(0)\n",
    "df['beats_sp'] = beats_sp\n",
    "\n",
    "df = df.loc[df['type'] == 'purchase']"
   ]
  },
  {
   "cell_type": "code",
   "execution_count": 5,
   "metadata": {},
   "outputs": [],
   "source": [
    "#baseline\n",
    "df['beats_sp'].mean()\n",
    "\n",
    "Features = ['party_x', 'total_senate_years', 'total_house_years', 'total_raised',\n",
    "            'percent_from_small_donors*', 'amount']\n",
    "X = df[Features]\n",
    "y = df['beats_sp']\n",
    "X = pd.get_dummies(X, columns = ['party_x', 'amount'], drop_first = True)\n",
    "\n",
    "X_train, X_test, y_train, y_test = train_test_split(X, y, stratify = y)\n",
    "ss = StandardScaler()\n",
    "X_train_sc = ss.fit_transform(X_train)\n",
    "X_test_sc = ss.transform(X_test)"
   ]
  },
  {
   "cell_type": "code",
   "execution_count": 6,
   "metadata": {},
   "outputs": [
    {
     "data": {
      "text/plain": [
       "0.5432679738562092"
      ]
     },
     "execution_count": 6,
     "metadata": {},
     "output_type": "execute_result"
    }
   ],
   "source": [
    "# Voting Regressor\n",
    "# pick and choose here which combinations to try for best model \n",
    "vote = VotingClassifier([\n",
    "#    ('logreg', LogisticRegression()),\n",
    "    ('rfc', RandomForestClassifier()),\n",
    "    ('extatrees', ExtraTreesClassifier()),\n",
    "    ('bag', BaggingClassifier()),\n",
    "    ('gb', GradientBoostingClassifier()),\n",
    "    ('ada', AdaBoostClassifier())\n",
    "], voting='soft')\n",
    "grid_params = {\n",
    "#    'logreg__penalty': ['l1', 'l2'],\n",
    "#    'logreg__C': [0.1, 1], \n",
    "#    'logreg__solver': ['saga'],\n",
    "#    'logreg__warm_start': [False, True],\n",
    "    'rfc__n_estimators': [100],\n",
    "    'rfc__max_depth': [10],\n",
    "    'bag__n_estimators': [10],\n",
    "    'bag__max_samples': [1.0],\n",
    "    'extatrees__n_estimators': [150],\n",
    "    'extatrees__min_samples_split': [2, 1],\n",
    "    'gb__learning_rate': [.1],\n",
    "    'gb__n_estimators': [50],\n",
    "#    'gb__base_estimator': ['DecisionTreeClassifier', 'RandomForestClassifier'],\n",
    "    'ada__n_estimators': [10],\n",
    "    'ada__learning_rate': [.1],\n",
    "#    'ada__base_estimator': ['DecisionTreeClassifier', 'RandomForestClassifier']\n",
    "}\n",
    "\n",
    "vote = GridSearchCV(vote, grid_params, cv=5, n_jobs = -1)\n",
    "vote.fit(X_train_sc, y_train)\n",
    "vote.best_score_"
   ]
  },
  {
   "cell_type": "code",
   "execution_count": 7,
   "metadata": {},
   "outputs": [
    {
     "name": "stdout",
     "output_type": "stream",
     "text": [
      "Training Score: 0.5866666666666667\n",
      "Testing Score: 0.5556426332288401\n"
     ]
    },
    {
     "data": {
      "image/png": "[encoded data removed]",
      "text/plain": [
       "<Figure size 432x288 with 2 Axes>"
      ]
     },
     "metadata": {
      "needs_background": "light"
     },
     "output_type": "display_data"
    }
   ],
   "source": [
    "#checking variance and bias\n",
    "print('Training Score:', vote.score(X_train_sc, y_train))\n",
    "print('Testing Score:', vote.score(X_test_sc, y_test))\n",
    "\n",
    "plot_confusion_matrix(vote, X_test_sc, y_test, cmap='Blues', \n",
    "                      values_format='d');"
   ]
  },
  {
   "cell_type": "markdown",
   "metadata": {},
   "source": [
    "# Random Forest Classifier"
   ]
  },
  {
   "cell_type": "code",
   "execution_count": 8,
   "metadata": {},
   "outputs": [
    {
     "data": {
      "text/plain": [
       "RandomForestClassifier(max_depth=6, n_estimators=50)"
      ]
     },
     "execution_count": 8,
     "metadata": {},
     "output_type": "execute_result"
    }
   ],
   "source": [
    "rf = RandomForestClassifier(max_depth= 6, n_estimators = 50)\n",
    "rf.fit(X_train_sc, y_train)"
   ]
  },
  {
   "cell_type": "code",
   "execution_count": 9,
   "metadata": {},
   "outputs": [
    {
     "name": "stdout",
     "output_type": "stream",
     "text": [
      "Training Score: 0.5803921568627451\n",
      "Testing Score: 0.5579937304075235\n"
     ]
    }
   ],
   "source": [
    "print('Training Score:', rf.score(X_train_sc, y_train))\n",
    "print('Testing Score:', rf.score(X_test_sc, y_test))"
   ]
  },
  {
   "cell_type": "code",
   "execution_count": 11,
   "metadata": {},
   "outputs": [
    {
     "data": {
      "image/png": "[encoded data removed]",
      "text/plain": [
       "<Figure size 432x288 with 2 Axes>"
      ]
     },
     "metadata": {
      "needs_background": "light"
     },
     "output_type": "display_data"
    }
   ],
   "source": [
    "plot_confusion_matrix(rf, X_test_sc, y_test, cmap='Blues', \n",
    "                      values_format='d')\n",
    "plt.title('Confusion Matrix of Model on Test Data');\n"
   ]
  },
  {
   "cell_type": "code",
   "execution_count": 12,
   "metadata": {},
   "outputs": [
    {
     "data": {
      "image/png": "[encoded data removed]",
      "text/plain": [
       "<Figure size 1152x576 with 1 Axes>"
      ]
     },
     "metadata": {
      "needs_background": "light"
     },
     "output_type": "display_data"
    }
   ],
   "source": [
    "X.columns = ['sen_yrs', 'house_yrs', 'raised','pct_sml_donor','Ind', 'Rep', 'Lib', '- 1001','1001 - 15000',\n",
    "             '100001 - 250000', '15001 - 50000', '250001 - 500000', '5000001 - 25000000',\n",
    "            '50001 - 100000', '500001 - 1000000']\n",
    "feature_imp = pd.DataFrame(data = rf.feature_importances_,index = X.columns,\n",
    "             columns = ['feature importance']).sort_values('feature importance', ascending = False).head(10)\n",
    "\n",
    "plt.figure(figsize = (16,8))\n",
    "plt.bar(feature_imp.index, feature_imp['feature importance'])\n",
    "plt.title('10 Most Important Features in the Model', fontsize = 14)\n",
    "plt.ylabel('Feature Importance', fontsize = 10)\n",
    "plt.xlabel('Feature', fontsize = 10);"
   ]
  },
  {
   "cell_type": "markdown",
   "metadata": {},
   "source": [
    "**Interpretation**\n",
    "\n",
    "The strongest predictors of whether a congressperson will beat the market on a trade it the amount of money they have raised campaigning, and the percentage of donations from small donors. The next strongest predictors are time spent in office, especially for members of the house."
   ]
  }
 ],
 "metadata": {
  "kernelspec": {
   "display_name": "Python 3",
   "language": "python",
   "name": "python3"
  },
  "language_info": {
   "codemirror_mode": {
    "name": "ipython",
    "version": 3
   },
   "file_extension": ".py",
   "mimetype": "text/x-python",
   "name": "python",
   "nbconvert_exporter": "python",
   "pygments_lexer": "ipython3",
   "version": "3.8.5"
  }
 },
 "nbformat": 4,
 "nbformat_minor": 4
}
