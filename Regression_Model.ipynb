{
 "cells": [
  {
   "cell_type": "markdown",
   "metadata": {},
   "source": [
    "# Regression Model\n",
    "\n",
    "Attempting to predict congressmembers returns to flag someone who may be doing extremely well could be useful. Therefore, a regression model is fitted on aspects of the congressmembers to see how their features might allow us to predict their stock performance."
   ]
  },
  {
   "cell_type": "code",
   "execution_count": 98,
   "metadata": {
    "ExecuteTime": {
     "end_time": "2021-06-10T13:36:24.948810Z",
     "start_time": "2021-06-10T13:36:24.934654Z"
    }
   },
   "outputs": [],
   "source": [
    "import pandas as pd\n",
    "import numpy as np\n",
    "\n",
    "# import models here \n",
    "import pandas as pd\n",
    "import numpy as np\n",
    "from sklearn.model_selection import GridSearchCV, train_test_split\n",
    "from sklearn.preprocessing import StandardScaler, PolynomialFeatures\n",
    "import sklearn.metrics as metrics\n",
    "from sklearn.metrics import accuracy_score\n",
    "from sklearn.linear_model import Ridge, Lasso, LinearRegression\n",
    "#setting up random seed for project requirements \n",
    "np.random.seed(73)\n"
   ]
  },
  {
   "cell_type": "code",
   "execution_count": 99,
   "metadata": {
    "ExecuteTime": {
     "end_time": "2021-06-10T13:36:25.458624Z",
     "start_time": "2021-06-10T13:36:24.952466Z"
    }
   },
   "outputs": [],
   "source": [
    "#reading in final dataset from EDA \n",
    "df = pd.read_csv('./data/stock_percentage_difference.csv')"
   ]
  },
  {
   "cell_type": "code",
   "execution_count": 100,
   "metadata": {
    "ExecuteTime": {
     "end_time": "2021-06-10T13:36:25.467682Z",
     "start_time": "2021-06-10T13:36:25.460020Z"
    }
   },
   "outputs": [
    {
     "data": {
      "text/plain": [
       "Index(['level_0', 'transaction_date', 'ticker', 'asset_description', 'type',\n",
       "       'amount', 'representative', 'timestamp', 'state', 'party_x',\n",
       "       'total_senate_years', 'total_house_years', 'total_years',\n",
       "       'total_raised', 'total_from_small_donors', 'percent_from_small_donors*',\n",
       "       'total_money_raised', 'start', 'day_30', 'day_30_stock_perc_diff',\n",
       "       'day_60', 'day_60_stock_perc_diff', 'day_90', 'day_90_stock_perc_diff',\n",
       "       'day_180', 'day_180_stock_perc_diff', 'sp_start', 'sp_30',\n",
       "       'sp_30_sp_perc_diff', 'sp_60', 'sp_60_sp_perc_diff', 'sp_90',\n",
       "       'sp_90_sp_perc_diff', 'sp_180', 'sp_180_sp_perc_diff'],\n",
       "      dtype='object')"
      ]
     },
     "execution_count": 100,
     "metadata": {},
     "output_type": "execute_result"
    }
   ],
   "source": [
    "df.columns"
   ]
  },
  {
   "cell_type": "code",
   "execution_count": 101,
   "metadata": {},
   "outputs": [
    {
     "name": "stderr",
     "output_type": "stream",
     "text": [
      "<ipython-input-101-d8b0c20ca58f>:1: FutureWarning: Indexing with multiple keys (implicitly converted to a tuple of keys) will be deprecated, use a list instead.\n",
      "  values = df.groupby('representative')['day_180', 'sp_180'].mean().sort_values('day_180')\n"
     ]
    }
   ],
   "source": [
    "values = df.groupby('representative')['day_180', 'sp_180'].mean().sort_values('day_180')"
   ]
  },
  {
   "cell_type": "code",
   "execution_count": 102,
   "metadata": {},
   "outputs": [
    {
     "data": {
      "text/plain": [
       "array([ 0.05      ,  6.51800003,  9.75      , 10.22999954, 12.26000023])"
      ]
     },
     "execution_count": 102,
     "metadata": {},
     "output_type": "execute_result"
    }
   ],
   "source": [
    "values.day_180[:5].values"
   ]
  },
  {
   "cell_type": "code",
   "execution_count": 103,
   "metadata": {
    "ExecuteTime": {
     "end_time": "2021-06-10T13:36:25.513157Z",
     "start_time": "2021-06-10T13:36:25.468839Z"
    }
   },
   "outputs": [],
   "source": [
    "df['total_raised'] =[int(raised.replace('$','')) for raised in df['total_raised']]"
   ]
  },
  {
   "cell_type": "code",
   "execution_count": 104,
   "metadata": {
    "ExecuteTime": {
     "end_time": "2021-06-10T13:36:25.520901Z",
     "start_time": "2021-06-10T13:36:25.514041Z"
    }
   },
   "outputs": [],
   "source": [
    "df['percent_from_small_donors*'] = [float(pct.replace('%','')) for pct in df['percent_from_small_donors*']]"
   ]
  },
  {
   "cell_type": "code",
   "execution_count": 105,
   "metadata": {
    "ExecuteTime": {
     "end_time": "2021-06-10T13:36:25.528824Z",
     "start_time": "2021-06-10T13:36:25.522252Z"
    }
   },
   "outputs": [
    {
     "data": {
      "text/plain": [
       "0         6.00\n",
       "1         6.00\n",
       "2         6.00\n",
       "3         6.00\n",
       "4         6.00\n",
       "         ...  \n",
       "10076    19.55\n",
       "10077    19.55\n",
       "10078    19.55\n",
       "10079    19.55\n",
       "10080    19.55\n",
       "Name: percent_from_small_donors*, Length: 10081, dtype: float64"
      ]
     },
     "execution_count": 105,
     "metadata": {},
     "output_type": "execute_result"
    }
   ],
   "source": [
    "df['percent_from_small_donors*']"
   ]
  },
  {
   "cell_type": "code",
   "execution_count": 106,
   "metadata": {
    "ExecuteTime": {
     "end_time": "2021-06-10T13:36:25.548488Z",
     "start_time": "2021-06-10T13:36:25.529714Z"
    }
   },
   "outputs": [
    {
     "data": {
      "text/plain": [
       "purchase        5101\n",
       "sale_full       2804\n",
       "sale_partial    2088\n",
       "exchange          88\n",
       "Name: type, dtype: int64"
      ]
     },
     "execution_count": 106,
     "metadata": {},
     "output_type": "execute_result"
    }
   ],
   "source": [
    "df['type'].value_counts()"
   ]
  },
  {
   "cell_type": "code",
   "execution_count": 107,
   "metadata": {
    "ExecuteTime": {
     "end_time": "2021-06-10T13:36:26.255210Z",
     "start_time": "2021-06-10T13:36:25.551116Z"
    }
   },
   "outputs": [],
   "source": [
    "beats_sp = []\n",
    "for i, row in df.iterrows():\n",
    "    if row['day_180_stock_perc_diff'] > row['sp_180_sp_perc_diff']:\n",
    "        beats_sp.append(1)\n",
    "    else:\n",
    "        beats_sp.append(0)\n",
    "df['beats_sp'] = beats_sp"
   ]
  },
  {
   "cell_type": "code",
   "execution_count": 108,
   "metadata": {
    "ExecuteTime": {
     "end_time": "2021-06-10T13:36:26.279119Z",
     "start_time": "2021-06-10T13:36:26.256641Z"
    }
   },
   "outputs": [],
   "source": [
    "df = df.loc[df['type'] == 'purchase']"
   ]
  },
  {
   "cell_type": "code",
   "execution_count": 109,
   "metadata": {
    "ExecuteTime": {
     "end_time": "2021-06-10T13:36:26.283364Z",
     "start_time": "2021-06-10T13:36:26.280063Z"
    }
   },
   "outputs": [
    {
     "data": {
      "text/plain": [
       "0.46324250147029994"
      ]
     },
     "execution_count": 109,
     "metadata": {},
     "output_type": "execute_result"
    }
   ],
   "source": [
    "df['beats_sp'].mean()"
   ]
  },
  {
   "cell_type": "code",
   "execution_count": 110,
   "metadata": {
    "ExecuteTime": {
     "end_time": "2021-06-10T13:36:26.323849Z",
     "start_time": "2021-06-10T13:36:26.284263Z"
    }
   },
   "outputs": [
    {
     "data": {
      "text/plain": [
       "Index(['level_0', 'transaction_date', 'ticker', 'asset_description', 'type',\n",
       "       'amount', 'representative', 'timestamp', 'state', 'party_x',\n",
       "       'total_senate_years', 'total_house_years', 'total_years',\n",
       "       'total_raised', 'total_from_small_donors', 'percent_from_small_donors*',\n",
       "       'total_money_raised', 'start', 'day_30', 'day_30_stock_perc_diff',\n",
       "       'day_60', 'day_60_stock_perc_diff', 'day_90', 'day_90_stock_perc_diff',\n",
       "       'day_180', 'day_180_stock_perc_diff', 'sp_start', 'sp_30',\n",
       "       'sp_30_sp_perc_diff', 'sp_60', 'sp_60_sp_perc_diff', 'sp_90',\n",
       "       'sp_90_sp_perc_diff', 'sp_180', 'sp_180_sp_perc_diff', 'beats_sp'],\n",
       "      dtype='object')"
      ]
     },
     "execution_count": 110,
     "metadata": {},
     "output_type": "execute_result"
    }
   ],
   "source": [
    "df.columns"
   ]
  },
  {
   "cell_type": "code",
   "execution_count": 111,
   "metadata": {},
   "outputs": [],
   "source": [
    "Features = ['party_x', 'total_house_years','total_senate_years', 'total_raised', 'percent_from_small_donors*']\n",
    "X = df[Features]\n",
    "y = df['day_180_stock_perc_diff']\n",
    "\n",
    "X = pd.get_dummies(X, columns = ['party_x'], drop_first = True)"
   ]
  },
  {
   "cell_type": "code",
   "execution_count": 112,
   "metadata": {},
   "outputs": [
    {
     "data": {
      "text/plain": [
       "1        0.254\n",
       "2        0.380\n",
       "16       0.084\n",
       "17      -0.065\n",
       "18      -0.118\n",
       "         ...  \n",
       "10072    0.038\n",
       "10073    0.159\n",
       "10074    0.214\n",
       "10078    0.272\n",
       "10079   -0.082\n",
       "Name: day_180_stock_perc_diff, Length: 5101, dtype: float64"
      ]
     },
     "execution_count": 112,
     "metadata": {},
     "output_type": "execute_result"
    }
   ],
   "source": [
    "y"
   ]
  },
  {
   "cell_type": "code",
   "execution_count": 113,
   "metadata": {},
   "outputs": [],
   "source": [
    "X_train, X_test, y_train, y_test = train_test_split(X, y)\n",
    "ss = StandardScaler()\n",
    "X_train_sc = ss.fit_transform(X_train)\n",
    "X_test_sc = ss.transform(X_test)"
   ]
  },
  {
   "cell_type": "code",
   "execution_count": 114,
   "metadata": {},
   "outputs": [
    {
     "data": {
      "text/plain": [
       "LinearRegression()"
      ]
     },
     "execution_count": 114,
     "metadata": {},
     "output_type": "execute_result"
    }
   ],
   "source": [
    "lr = LinearRegression()\n",
    "\n",
    "lr.fit(X_train_sc, y_train)"
   ]
  },
  {
   "cell_type": "code",
   "execution_count": 115,
   "metadata": {},
   "outputs": [
    {
     "name": "stdout",
     "output_type": "stream",
     "text": [
      "Training Score: 0.01835866055515012\n",
      "Testing Score: 0.026083489235383173\n"
     ]
    }
   ],
   "source": [
    "print('Training Score:', ridge.score(X_train_sc, y_train))\n",
    "print('Testing Score:', ridge.score(X_test_sc, y_test))"
   ]
  },
  {
   "cell_type": "code",
   "execution_count": 116,
   "metadata": {},
   "outputs": [],
   "source": [
    "coef_df = pd.DataFrame({'Features':X.columns, 'coefs': ridge.coef_})"
   ]
  },
  {
   "cell_type": "code",
   "execution_count": 117,
   "metadata": {},
   "outputs": [
    {
     "data": {
      "text/html": [
       "<div>\n",
       "<style scoped>\n",
       "    .dataframe tbody tr th:only-of-type {\n",
       "        vertical-align: middle;\n",
       "    }\n",
       "\n",
       "    .dataframe tbody tr th {\n",
       "        vertical-align: top;\n",
       "    }\n",
       "\n",
       "    .dataframe thead th {\n",
       "        text-align: right;\n",
       "    }\n",
       "</style>\n",
       "<table border=\"1\" class=\"dataframe\">\n",
       "  <thead>\n",
       "    <tr style=\"text-align: right;\">\n",
       "      <th></th>\n",
       "      <th>Features</th>\n",
       "      <th>coefs</th>\n",
       "    </tr>\n",
       "  </thead>\n",
       "  <tbody>\n",
       "    <tr>\n",
       "      <th>2</th>\n",
       "      <td>total_raised</td>\n",
       "      <td>-0.043769</td>\n",
       "    </tr>\n",
       "    <tr>\n",
       "      <th>1</th>\n",
       "      <td>total_senate_years</td>\n",
       "      <td>-0.030720</td>\n",
       "    </tr>\n",
       "    <tr>\n",
       "      <th>6</th>\n",
       "      <td>party_x_Republican</td>\n",
       "      <td>-0.004643</td>\n",
       "    </tr>\n",
       "    <tr>\n",
       "      <th>4</th>\n",
       "      <td>party_x_Independent</td>\n",
       "      <td>0.000691</td>\n",
       "    </tr>\n",
       "    <tr>\n",
       "      <th>5</th>\n",
       "      <td>party_x_Libertarian</td>\n",
       "      <td>0.003985</td>\n",
       "    </tr>\n",
       "    <tr>\n",
       "      <th>3</th>\n",
       "      <td>percent_from_small_donors*</td>\n",
       "      <td>0.006014</td>\n",
       "    </tr>\n",
       "    <tr>\n",
       "      <th>0</th>\n",
       "      <td>total_house_years</td>\n",
       "      <td>0.008390</td>\n",
       "    </tr>\n",
       "  </tbody>\n",
       "</table>\n",
       "</div>"
      ],
      "text/plain": [
       "                     Features     coefs\n",
       "2                total_raised -0.043769\n",
       "1          total_senate_years -0.030720\n",
       "6          party_x_Republican -0.004643\n",
       "4         party_x_Independent  0.000691\n",
       "5         party_x_Libertarian  0.003985\n",
       "3  percent_from_small_donors*  0.006014\n",
       "0           total_house_years  0.008390"
      ]
     },
     "execution_count": 117,
     "metadata": {},
     "output_type": "execute_result"
    }
   ],
   "source": [
    "coef_df.sort_values('coefs')"
   ]
  },
  {
   "cell_type": "markdown",
   "metadata": {},
   "source": [
    "**Interpretation**\n",
    "\n",
    "The low accuracy of this regression model made its feature importances as a method of determining who may be flagged unusable. Therefore it was discarded for the classification model."
   ]
  }
 ],
 "metadata": {
  "kernelspec": {
   "display_name": "Python 3",
   "language": "python",
   "name": "python3"
  },
  "language_info": {
   "codemirror_mode": {
    "name": "ipython",
    "version": 3
   },
   "file_extension": ".py",
   "mimetype": "text/x-python",
   "name": "python",
   "nbconvert_exporter": "python",
   "pygments_lexer": "ipython3",
   "version": "3.8.5"
  }
 },
 "nbformat": 4,
 "nbformat_minor": 4
}
