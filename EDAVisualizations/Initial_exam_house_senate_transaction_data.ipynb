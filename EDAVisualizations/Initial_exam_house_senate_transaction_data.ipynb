{
 "cells": [
  {
   "cell_type": "markdown",
   "metadata": {},
   "source": [
    "# This notebook shows initial exploration of the transaction data from housestockwatcher.com and senatestockwatcher.com"
   ]
  },
  {
   "cell_type": "code",
   "execution_count": 1,
   "metadata": {},
   "outputs": [],
   "source": [
    "import pandas as pd"
   ]
  },
  {
   "cell_type": "code",
   "execution_count": 2,
   "metadata": {},
   "outputs": [],
   "source": [
    "# Read in data. Initial data exploration revealed '--' was used sometimes for null values.\n",
    "# We also know that there is date column 'transaction_date'.\n",
    "senators = pd.read_csv('../data/senate_stocks.csv', index_col = 'senator', na_values = '--', \n",
    "                       parse_dates = ['transaction_date'])\n",
    "reps = pd.read_csv('../data/house_stocks.csv', index_col = 'representative', na_values = '--',\n",
    "                  parse_dates = ['transaction_date'])"
   ]
  },
  {
   "cell_type": "code",
   "execution_count": 3,
   "metadata": {},
   "outputs": [
    {
     "data": {
      "text/plain": [
       "['transaction_date',\n",
       " 'owner',\n",
       " 'ticker',\n",
       " 'asset_description',\n",
       " 'asset_type',\n",
       " 'type',\n",
       " 'amount',\n",
       " 'comment',\n",
       " 'ptr_link']"
      ]
     },
     "execution_count": 3,
     "metadata": {},
     "output_type": "execute_result"
    }
   ],
   "source": [
    "list(senators.columns)"
   ]
  },
  {
   "cell_type": "code",
   "execution_count": 4,
   "metadata": {},
   "outputs": [
    {
     "data": {
      "text/plain": [
       "['disclosure_year',\n",
       " 'disclosure_date',\n",
       " 'transaction_date',\n",
       " 'owner',\n",
       " 'ticker',\n",
       " 'asset_description',\n",
       " 'type',\n",
       " 'amount',\n",
       " 'district',\n",
       " 'ptr_link',\n",
       " 'cap_gains_over_200_usd']"
      ]
     },
     "execution_count": 4,
     "metadata": {},
     "output_type": "execute_result"
    }
   ],
   "source": [
    "list(reps.columns)"
   ]
  },
  {
   "cell_type": "markdown",
   "metadata": {},
   "source": [
    "#### The shared columns in both files are transaction_date, owner, ticker, asset_description, amount, ptr_link. Need to examine asset_type and type"
   ]
  },
  {
   "cell_type": "code",
   "execution_count": 5,
   "metadata": {},
   "outputs": [
    {
     "data": {
      "text/plain": [
       "transaction_date     datetime64[ns]\n",
       "owner                        object\n",
       "ticker                       object\n",
       "asset_description            object\n",
       "asset_type                   object\n",
       "type                         object\n",
       "amount                       object\n",
       "comment                      object\n",
       "ptr_link                     object\n",
       "dtype: object"
      ]
     },
     "execution_count": 5,
     "metadata": {},
     "output_type": "execute_result"
    }
   ],
   "source": [
    "# Check the date conversion (just look at senators)\n",
    "senators.dtypes"
   ]
  },
  {
   "cell_type": "code",
   "execution_count": 6,
   "metadata": {},
   "outputs": [
    {
     "data": {
      "text/html": [
       "<div>\n",
       "<style scoped>\n",
       "    .dataframe tbody tr th:only-of-type {\n",
       "        vertical-align: middle;\n",
       "    }\n",
       "\n",
       "    .dataframe tbody tr th {\n",
       "        vertical-align: top;\n",
       "    }\n",
       "\n",
       "    .dataframe thead th {\n",
       "        text-align: right;\n",
       "    }\n",
       "</style>\n",
       "<table border=\"1\" class=\"dataframe\">\n",
       "  <thead>\n",
       "    <tr style=\"text-align: right;\">\n",
       "      <th></th>\n",
       "      <th>transaction_date</th>\n",
       "      <th>owner</th>\n",
       "      <th>ticker</th>\n",
       "      <th>asset_description</th>\n",
       "      <th>asset_type</th>\n",
       "      <th>type</th>\n",
       "      <th>amount</th>\n",
       "      <th>comment</th>\n",
       "      <th>ptr_link</th>\n",
       "    </tr>\n",
       "    <tr>\n",
       "      <th>senator</th>\n",
       "      <th></th>\n",
       "      <th></th>\n",
       "      <th></th>\n",
       "      <th></th>\n",
       "      <th></th>\n",
       "      <th></th>\n",
       "      <th></th>\n",
       "      <th></th>\n",
       "      <th></th>\n",
       "    </tr>\n",
       "  </thead>\n",
       "  <tbody>\n",
       "    <tr>\n",
       "      <th>Thomas R Carper</th>\n",
       "      <td>2021-05-26</td>\n",
       "      <td>Spouse</td>\n",
       "      <td>NaN</td>\n",
       "      <td>HSBC Contingent Autocall BMY &lt;div class=\"text-...</td>\n",
       "      <td>Corporate Bond</td>\n",
       "      <td>Sale (Full)</td>\n",
       "      <td>$15,001 - $50,000</td>\n",
       "      <td>NaN</td>\n",
       "      <td>https://efdsearch.senate.gov/search/view/ptr/2...</td>\n",
       "    </tr>\n",
       "    <tr>\n",
       "      <th>Thomas R Carper</th>\n",
       "      <td>2021-05-26</td>\n",
       "      <td>Spouse</td>\n",
       "      <td>NaN</td>\n",
       "      <td>HSBC Contingent Autocall BMY &lt;div class=\"text-...</td>\n",
       "      <td>Corporate Bond</td>\n",
       "      <td>Sale (Full)</td>\n",
       "      <td>$15,001 - $50,000</td>\n",
       "      <td>NaN</td>\n",
       "      <td>https://efdsearch.senate.gov/search/view/ptr/2...</td>\n",
       "    </tr>\n",
       "    <tr>\n",
       "      <th>Thomas R Carper</th>\n",
       "      <td>2021-05-07</td>\n",
       "      <td>Spouse</td>\n",
       "      <td>NaN</td>\n",
       "      <td>CS Contingent Autocall CSCO &lt;div class=\"text-m...</td>\n",
       "      <td>Corporate Bond</td>\n",
       "      <td>Purchase</td>\n",
       "      <td>$15,001 - $50,000</td>\n",
       "      <td>NaN</td>\n",
       "      <td>https://efdsearch.senate.gov/search/view/ptr/2...</td>\n",
       "    </tr>\n",
       "    <tr>\n",
       "      <th>Mike Rounds</th>\n",
       "      <td>2021-05-01</td>\n",
       "      <td>Joint</td>\n",
       "      <td>NaN</td>\n",
       "      <td>Bird Dog Hospitality Fund 1, LLC &lt;div class=\"t...</td>\n",
       "      <td>Non-Public Stock</td>\n",
       "      <td>Purchase</td>\n",
       "      <td>$15,001 - $50,000</td>\n",
       "      <td>NaN</td>\n",
       "      <td>https://efdsearch.senate.gov/search/view/ptr/3...</td>\n",
       "    </tr>\n",
       "    <tr>\n",
       "      <th>Shelley M Capito</th>\n",
       "      <td>2021-04-26</td>\n",
       "      <td>Spouse</td>\n",
       "      <td>WFC</td>\n",
       "      <td>Wells Fargo &amp;amp; Company</td>\n",
       "      <td>Stock</td>\n",
       "      <td>Sale (Partial)</td>\n",
       "      <td>$1,001 - $15,000</td>\n",
       "      <td>NaN</td>\n",
       "      <td>https://efdsearch.senate.gov/search/view/ptr/8...</td>\n",
       "    </tr>\n",
       "  </tbody>\n",
       "</table>\n",
       "</div>"
      ],
      "text/plain": [
       "                 transaction_date   owner ticker  \\\n",
       "senator                                            \n",
       "Thomas R Carper        2021-05-26  Spouse    NaN   \n",
       "Thomas R Carper        2021-05-26  Spouse    NaN   \n",
       "Thomas R Carper        2021-05-07  Spouse    NaN   \n",
       "Mike Rounds            2021-05-01   Joint    NaN   \n",
       "Shelley M Capito       2021-04-26  Spouse    WFC   \n",
       "\n",
       "                                                  asset_description  \\\n",
       "senator                                                               \n",
       "Thomas R Carper   HSBC Contingent Autocall BMY <div class=\"text-...   \n",
       "Thomas R Carper   HSBC Contingent Autocall BMY <div class=\"text-...   \n",
       "Thomas R Carper   CS Contingent Autocall CSCO <div class=\"text-m...   \n",
       "Mike Rounds       Bird Dog Hospitality Fund 1, LLC <div class=\"t...   \n",
       "Shelley M Capito                          Wells Fargo &amp; Company   \n",
       "\n",
       "                        asset_type            type             amount comment  \\\n",
       "senator                                                                         \n",
       "Thomas R Carper     Corporate Bond     Sale (Full)  $15,001 - $50,000     NaN   \n",
       "Thomas R Carper     Corporate Bond     Sale (Full)  $15,001 - $50,000     NaN   \n",
       "Thomas R Carper     Corporate Bond        Purchase  $15,001 - $50,000     NaN   \n",
       "Mike Rounds       Non-Public Stock        Purchase  $15,001 - $50,000     NaN   \n",
       "Shelley M Capito             Stock  Sale (Partial)   $1,001 - $15,000     NaN   \n",
       "\n",
       "                                                           ptr_link  \n",
       "senator                                                              \n",
       "Thomas R Carper   https://efdsearch.senate.gov/search/view/ptr/2...  \n",
       "Thomas R Carper   https://efdsearch.senate.gov/search/view/ptr/2...  \n",
       "Thomas R Carper   https://efdsearch.senate.gov/search/view/ptr/2...  \n",
       "Mike Rounds       https://efdsearch.senate.gov/search/view/ptr/3...  \n",
       "Shelley M Capito  https://efdsearch.senate.gov/search/view/ptr/8...  "
      ]
     },
     "execution_count": 6,
     "metadata": {},
     "output_type": "execute_result"
    }
   ],
   "source": [
    "# Look at the senators dataframe, especially transaction_date, type, asset_type\n",
    "senators.head()"
   ]
  },
  {
   "cell_type": "code",
   "execution_count": 7,
   "metadata": {},
   "outputs": [
    {
     "data": {
      "text/html": [
       "<div>\n",
       "<style scoped>\n",
       "    .dataframe tbody tr th:only-of-type {\n",
       "        vertical-align: middle;\n",
       "    }\n",
       "\n",
       "    .dataframe tbody tr th {\n",
       "        vertical-align: top;\n",
       "    }\n",
       "\n",
       "    .dataframe thead th {\n",
       "        text-align: right;\n",
       "    }\n",
       "</style>\n",
       "<table border=\"1\" class=\"dataframe\">\n",
       "  <thead>\n",
       "    <tr style=\"text-align: right;\">\n",
       "      <th></th>\n",
       "      <th>disclosure_year</th>\n",
       "      <th>disclosure_date</th>\n",
       "      <th>transaction_date</th>\n",
       "      <th>owner</th>\n",
       "      <th>ticker</th>\n",
       "      <th>asset_description</th>\n",
       "      <th>type</th>\n",
       "      <th>amount</th>\n",
       "      <th>district</th>\n",
       "      <th>ptr_link</th>\n",
       "      <th>cap_gains_over_200_usd</th>\n",
       "    </tr>\n",
       "    <tr>\n",
       "      <th>representative</th>\n",
       "      <th></th>\n",
       "      <th></th>\n",
       "      <th></th>\n",
       "      <th></th>\n",
       "      <th></th>\n",
       "      <th></th>\n",
       "      <th></th>\n",
       "      <th></th>\n",
       "      <th></th>\n",
       "      <th></th>\n",
       "      <th></th>\n",
       "    </tr>\n",
       "  </thead>\n",
       "  <tbody>\n",
       "    <tr>\n",
       "      <th>Hon. Susie Lee</th>\n",
       "      <td>2020</td>\n",
       "      <td>04/28/2020</td>\n",
       "      <td>2020-02-24</td>\n",
       "      <td>joint</td>\n",
       "      <td>BHC</td>\n",
       "      <td>Bausch Health Companies Inc.</td>\n",
       "      <td>purchase</td>\n",
       "      <td>$1,001 - $15,000</td>\n",
       "      <td>NV03</td>\n",
       "      <td>https://disclosures-clerk.house.gov/public_dis...</td>\n",
       "      <td>False</td>\n",
       "    </tr>\n",
       "    <tr>\n",
       "      <th>Hon. Susie Lee</th>\n",
       "      <td>2020</td>\n",
       "      <td>04/28/2020</td>\n",
       "      <td>2020-03-06</td>\n",
       "      <td>joint</td>\n",
       "      <td>BAH</td>\n",
       "      <td>Booz Allen Hamilton Holding Corporation</td>\n",
       "      <td>sale_full</td>\n",
       "      <td>$1,001 - $15,000</td>\n",
       "      <td>NV03</td>\n",
       "      <td>https://disclosures-clerk.house.gov/public_dis...</td>\n",
       "      <td>True</td>\n",
       "    </tr>\n",
       "    <tr>\n",
       "      <th>Hon. Susie Lee</th>\n",
       "      <td>2020</td>\n",
       "      <td>04/28/2020</td>\n",
       "      <td>2020-03-23</td>\n",
       "      <td>joint</td>\n",
       "      <td>BYD</td>\n",
       "      <td>Boyd Gaming Corporation</td>\n",
       "      <td>sale_full</td>\n",
       "      <td>$1,001 - $15,000</td>\n",
       "      <td>NV03</td>\n",
       "      <td>https://disclosures-clerk.house.gov/public_dis...</td>\n",
       "      <td>False</td>\n",
       "    </tr>\n",
       "    <tr>\n",
       "      <th>Hon. Susie Lee</th>\n",
       "      <td>2020</td>\n",
       "      <td>04/28/2020</td>\n",
       "      <td>2020-02-04</td>\n",
       "      <td>joint</td>\n",
       "      <td>CTLT</td>\n",
       "      <td>Catalent, Inc.</td>\n",
       "      <td>purchase</td>\n",
       "      <td>$1,001 - $15,000</td>\n",
       "      <td>NV03</td>\n",
       "      <td>https://disclosures-clerk.house.gov/public_dis...</td>\n",
       "      <td>False</td>\n",
       "    </tr>\n",
       "    <tr>\n",
       "      <th>Hon. Susie Lee</th>\n",
       "      <td>2020</td>\n",
       "      <td>04/28/2020</td>\n",
       "      <td>2020-03-18</td>\n",
       "      <td>joint</td>\n",
       "      <td>CBRE</td>\n",
       "      <td>CBRE Group Inc Common Stock Class A</td>\n",
       "      <td>sale_partial</td>\n",
       "      <td>$1,001 - $15,000</td>\n",
       "      <td>NV03</td>\n",
       "      <td>https://disclosures-clerk.house.gov/public_dis...</td>\n",
       "      <td>False</td>\n",
       "    </tr>\n",
       "  </tbody>\n",
       "</table>\n",
       "</div>"
      ],
      "text/plain": [
       "                disclosure_year disclosure_date transaction_date  owner  \\\n",
       "representative                                                            \n",
       "Hon. Susie Lee             2020      04/28/2020       2020-02-24  joint   \n",
       "Hon. Susie Lee             2020      04/28/2020       2020-03-06  joint   \n",
       "Hon. Susie Lee             2020      04/28/2020       2020-03-23  joint   \n",
       "Hon. Susie Lee             2020      04/28/2020       2020-02-04  joint   \n",
       "Hon. Susie Lee             2020      04/28/2020       2020-03-18  joint   \n",
       "\n",
       "               ticker                        asset_description          type  \\\n",
       "representative                                                                 \n",
       "Hon. Susie Lee    BHC             Bausch Health Companies Inc.      purchase   \n",
       "Hon. Susie Lee    BAH  Booz Allen Hamilton Holding Corporation     sale_full   \n",
       "Hon. Susie Lee    BYD                  Boyd Gaming Corporation     sale_full   \n",
       "Hon. Susie Lee   CTLT                           Catalent, Inc.      purchase   \n",
       "Hon. Susie Lee   CBRE      CBRE Group Inc Common Stock Class A  sale_partial   \n",
       "\n",
       "                          amount district  \\\n",
       "representative                              \n",
       "Hon. Susie Lee  $1,001 - $15,000     NV03   \n",
       "Hon. Susie Lee  $1,001 - $15,000     NV03   \n",
       "Hon. Susie Lee  $1,001 - $15,000     NV03   \n",
       "Hon. Susie Lee  $1,001 - $15,000     NV03   \n",
       "Hon. Susie Lee  $1,001 - $15,000     NV03   \n",
       "\n",
       "                                                         ptr_link  \\\n",
       "representative                                                      \n",
       "Hon. Susie Lee  https://disclosures-clerk.house.gov/public_dis...   \n",
       "Hon. Susie Lee  https://disclosures-clerk.house.gov/public_dis...   \n",
       "Hon. Susie Lee  https://disclosures-clerk.house.gov/public_dis...   \n",
       "Hon. Susie Lee  https://disclosures-clerk.house.gov/public_dis...   \n",
       "Hon. Susie Lee  https://disclosures-clerk.house.gov/public_dis...   \n",
       "\n",
       "                cap_gains_over_200_usd  \n",
       "representative                          \n",
       "Hon. Susie Lee                   False  \n",
       "Hon. Susie Lee                    True  \n",
       "Hon. Susie Lee                   False  \n",
       "Hon. Susie Lee                   False  \n",
       "Hon. Susie Lee                   False  "
      ]
     },
     "execution_count": 7,
     "metadata": {},
     "output_type": "execute_result"
    }
   ],
   "source": [
    "# Look at the reps dataframe, especially transaction_date, type\n",
    "reps.head()"
   ]
  },
  {
   "cell_type": "markdown",
   "metadata": {},
   "source": [
    "**Conclusions:** transaction date conversion worked. Asset type is not in representative data. Type needs to be standardized, different in both dataframes, but same information."
   ]
  },
  {
   "cell_type": "markdown",
   "metadata": {},
   "source": [
    "## We will want to focus on stocks. What is the relationship between Asset Type and Ticker?"
   ]
  },
  {
   "cell_type": "code",
   "execution_count": 8,
   "metadata": {},
   "outputs": [
    {
     "data": {
      "text/html": [
       "<div>\n",
       "<style scoped>\n",
       "    .dataframe tbody tr th:only-of-type {\n",
       "        vertical-align: middle;\n",
       "    }\n",
       "\n",
       "    .dataframe tbody tr th {\n",
       "        vertical-align: top;\n",
       "    }\n",
       "\n",
       "    .dataframe thead th {\n",
       "        text-align: right;\n",
       "    }\n",
       "</style>\n",
       "<table border=\"1\" class=\"dataframe\">\n",
       "  <thead>\n",
       "    <tr style=\"text-align: right;\">\n",
       "      <th></th>\n",
       "      <th>asset_type</th>\n",
       "      <th>ticker</th>\n",
       "    </tr>\n",
       "    <tr>\n",
       "      <th>senator</th>\n",
       "      <th></th>\n",
       "      <th></th>\n",
       "    </tr>\n",
       "  </thead>\n",
       "  <tbody>\n",
       "    <tr>\n",
       "      <th>Thomas R Carper</th>\n",
       "      <td>Corporate Bond</td>\n",
       "      <td>NaN</td>\n",
       "    </tr>\n",
       "    <tr>\n",
       "      <th>Thomas R Carper</th>\n",
       "      <td>Corporate Bond</td>\n",
       "      <td>NaN</td>\n",
       "    </tr>\n",
       "    <tr>\n",
       "      <th>Thomas R Carper</th>\n",
       "      <td>Corporate Bond</td>\n",
       "      <td>NaN</td>\n",
       "    </tr>\n",
       "    <tr>\n",
       "      <th>Mike Rounds</th>\n",
       "      <td>Non-Public Stock</td>\n",
       "      <td>NaN</td>\n",
       "    </tr>\n",
       "    <tr>\n",
       "      <th>Shelley M Capito</th>\n",
       "      <td>Stock</td>\n",
       "      <td>WFC</td>\n",
       "    </tr>\n",
       "    <tr>\n",
       "      <th>Jerry Moran,</th>\n",
       "      <td>Stock</td>\n",
       "      <td>VZ</td>\n",
       "    </tr>\n",
       "    <tr>\n",
       "      <th>Richard M Burr</th>\n",
       "      <td>PDF Disclosed Filing</td>\n",
       "      <td>NaN</td>\n",
       "    </tr>\n",
       "    <tr>\n",
       "      <th>Susan M Collins</th>\n",
       "      <td>Municipal Security</td>\n",
       "      <td>NaN</td>\n",
       "    </tr>\n",
       "    <tr>\n",
       "      <th>Susan M Collins</th>\n",
       "      <td>Municipal Security</td>\n",
       "      <td>NaN</td>\n",
       "    </tr>\n",
       "    <tr>\n",
       "      <th>Tina Smith</th>\n",
       "      <td>Non-Public Stock</td>\n",
       "      <td>NaN</td>\n",
       "    </tr>\n",
       "    <tr>\n",
       "      <th>John Boozman</th>\n",
       "      <td>Stock</td>\n",
       "      <td>IWM</td>\n",
       "    </tr>\n",
       "    <tr>\n",
       "      <th>John Boozman</th>\n",
       "      <td>Stock</td>\n",
       "      <td>NaN</td>\n",
       "    </tr>\n",
       "    <tr>\n",
       "      <th>William F Hagerty, Iv</th>\n",
       "      <td>Stock</td>\n",
       "      <td>NTRA</td>\n",
       "    </tr>\n",
       "    <tr>\n",
       "      <th>Thomas R Carper</th>\n",
       "      <td>Corporate Bond</td>\n",
       "      <td>NaN</td>\n",
       "    </tr>\n",
       "    <tr>\n",
       "      <th>Thomas R Carper</th>\n",
       "      <td>Stock</td>\n",
       "      <td>NUAN</td>\n",
       "    </tr>\n",
       "    <tr>\n",
       "      <th>Thomas R Carper</th>\n",
       "      <td>Stock</td>\n",
       "      <td>GAN</td>\n",
       "    </tr>\n",
       "    <tr>\n",
       "      <th>Thomas R Carper</th>\n",
       "      <td>Stock</td>\n",
       "      <td>TRIT</td>\n",
       "    </tr>\n",
       "    <tr>\n",
       "      <th>Thomas R Carper</th>\n",
       "      <td>Corporate Bond</td>\n",
       "      <td>NaN</td>\n",
       "    </tr>\n",
       "    <tr>\n",
       "      <th>Thomas R Carper</th>\n",
       "      <td>Corporate Bond</td>\n",
       "      <td>NaN</td>\n",
       "    </tr>\n",
       "    <tr>\n",
       "      <th>Thomas R Carper</th>\n",
       "      <td>Stock</td>\n",
       "      <td>CWEN</td>\n",
       "    </tr>\n",
       "  </tbody>\n",
       "</table>\n",
       "</div>"
      ],
      "text/plain": [
       "                                 asset_type ticker\n",
       "senator                                           \n",
       "Thomas R Carper              Corporate Bond    NaN\n",
       "Thomas R Carper              Corporate Bond    NaN\n",
       "Thomas R Carper              Corporate Bond    NaN\n",
       "Mike Rounds                Non-Public Stock    NaN\n",
       "Shelley M Capito                      Stock    WFC\n",
       "Jerry Moran,                          Stock     VZ\n",
       "Richard M Burr         PDF Disclosed Filing    NaN\n",
       "Susan M Collins          Municipal Security    NaN\n",
       "Susan M Collins          Municipal Security    NaN\n",
       "Tina Smith                 Non-Public Stock    NaN\n",
       "John Boozman                          Stock    IWM\n",
       "John Boozman                          Stock    NaN\n",
       "William F Hagerty, Iv                 Stock   NTRA\n",
       "Thomas R Carper              Corporate Bond    NaN\n",
       "Thomas R Carper                       Stock   NUAN\n",
       "Thomas R Carper                       Stock    GAN\n",
       "Thomas R Carper                       Stock   TRIT\n",
       "Thomas R Carper              Corporate Bond    NaN\n",
       "Thomas R Carper              Corporate Bond    NaN\n",
       "Thomas R Carper                       Stock   CWEN"
      ]
     },
     "execution_count": 8,
     "metadata": {},
     "output_type": "execute_result"
    }
   ],
   "source": [
    "asset_ticker = senators[['asset_type', 'ticker']]\n",
    "asset_ticker.head(20)"
   ]
  },
  {
   "cell_type": "code",
   "execution_count": 9,
   "metadata": {
    "scrolled": true
   },
   "outputs": [
    {
     "data": {
      "text/plain": [
       "Stock                   6333\n",
       "PDF Disclosed Filing     464\n",
       "Municipal Security       363\n",
       "Other Securities         339\n",
       "Corporate Bond           218\n",
       "Non-Public Stock          89\n",
       "Stock Option              84\n",
       "Name: asset_type, dtype: int64"
      ]
     },
     "execution_count": 9,
     "metadata": {},
     "output_type": "execute_result"
    }
   ],
   "source": [
    "asset_ticker['asset_type'].value_counts()"
   ]
  },
  {
   "cell_type": "markdown",
   "metadata": {},
   "source": [
    "### Figure out how to standardize type column"
   ]
  },
  {
   "cell_type": "code",
   "execution_count": 11,
   "metadata": {},
   "outputs": [
    {
     "data": {
      "text/plain": [
       "Purchase          4200\n",
       "Sale (Full)       2064\n",
       "Sale (Partial)    1735\n",
       "Exchange            93\n",
       "Name: type, dtype: int64"
      ]
     },
     "execution_count": 11,
     "metadata": {},
     "output_type": "execute_result"
    }
   ],
   "source": [
    "senators['type'].value_counts()"
   ]
  },
  {
   "cell_type": "code",
   "execution_count": 12,
   "metadata": {},
   "outputs": [
    {
     "data": {
      "text/plain": [
       "purchase        5114\n",
       "sale_full       3283\n",
       "sale_partial    1659\n",
       "exchange          99\n",
       "Name: type, dtype: int64"
      ]
     },
     "execution_count": 12,
     "metadata": {},
     "output_type": "execute_result"
    }
   ],
   "source": [
    "reps['type'].value_counts()"
   ]
  },
  {
   "cell_type": "code",
   "execution_count": 13,
   "metadata": {},
   "outputs": [],
   "source": [
    "# Replace types in the senators data with types in the representatives data, because the rep type data is lowercase\n",
    "# and in snake format\n",
    "senators.loc[senators['type'] == 'Purchase', 'type'] = 'purchase'\n",
    "senators.loc[senators['type'] == 'Sale (Full)', 'type'] = 'sale_full'\n",
    "senators.loc[senators['type'] == 'Sale (Partial)', 'type'] = 'sale_partial'\n",
    "senators.loc[senators['type'] == 'Exchange', 'type'] = 'exchange'"
   ]
  },
  {
   "cell_type": "code",
   "execution_count": 14,
   "metadata": {},
   "outputs": [
    {
     "data": {
      "text/plain": [
       "purchase        4200\n",
       "sale_full       2064\n",
       "sale_partial    1735\n",
       "exchange          93\n",
       "Name: type, dtype: int64"
      ]
     },
     "execution_count": 14,
     "metadata": {},
     "output_type": "execute_result"
    }
   ],
   "source": [
    "senators['type'].value_counts()"
   ]
  },
  {
   "cell_type": "code",
   "execution_count": 15,
   "metadata": {},
   "outputs": [
    {
     "data": {
      "text/plain": [
       "purchase        5114\n",
       "sale_full       3283\n",
       "sale_partial    1659\n",
       "exchange          99\n",
       "Name: type, dtype: int64"
      ]
     },
     "execution_count": 15,
     "metadata": {},
     "output_type": "execute_result"
    }
   ],
   "source": [
    "reps['type'].value_counts()"
   ]
  },
  {
   "cell_type": "markdown",
   "metadata": {},
   "source": [
    "### Examine the date ranges for the stock transaction data for senators and representatives"
   ]
  },
  {
   "cell_type": "code",
   "execution_count": 16,
   "metadata": {},
   "outputs": [
    {
     "data": {
      "text/plain": [
       "senator\n",
       "Lamar Alexander     2012-06-14\n",
       "Benjamin L Cardin   2012-07-25\n",
       "Thomas R Carper     2012-08-02\n",
       "Robert J Portman    2012-08-15\n",
       "Pat Roberts         2012-08-16\n",
       "                       ...    \n",
       "Mike Rounds         2021-05-01\n",
       "Thomas R Carper     2021-05-07\n",
       "Richard M Burr      2021-05-17\n",
       "Thomas R Carper     2021-05-26\n",
       "Thomas R Carper     2021-05-26\n",
       "Name: transaction_date, Length: 8556, dtype: datetime64[ns]"
      ]
     },
     "execution_count": 16,
     "metadata": {},
     "output_type": "execute_result"
    }
   ],
   "source": [
    "senators['transaction_date'].sort_values()"
   ]
  },
  {
   "cell_type": "markdown",
   "metadata": {},
   "source": [
    "#### We have data for Senators' transactions between June 2012 to May 2021"
   ]
  },
  {
   "cell_type": "code",
   "execution_count": 17,
   "metadata": {},
   "outputs": [
    {
     "data": {
      "text/plain": [
       "representative\n",
       "Hon. Carol Devine Miller   2018-12-27\n",
       "Hon. Donna Shalala         2019-01-09\n",
       "Hon. Donna Shalala         2019-01-09\n",
       "Hon. Donna Shalala         2019-01-09\n",
       "Hon. Donna Shalala         2019-01-09\n",
       "                              ...    \n",
       "Hon. Mo Brooks             2021-05-14\n",
       "Hon. Hakeem S. Jeffries    2021-05-17\n",
       "Hon. Bob Gibbs             2021-05-25\n",
       "Hon. Bob Gibbs             2021-05-25\n",
       "Hon. Bob Gibbs             2021-05-25\n",
       "Name: transaction_date, Length: 10155, dtype: datetime64[ns]"
      ]
     },
     "execution_count": 17,
     "metadata": {},
     "output_type": "execute_result"
    }
   ],
   "source": [
    "reps['transaction_date'].sort_values()"
   ]
  },
  {
   "cell_type": "markdown",
   "metadata": {},
   "source": [
    "#### We have data for Representatives' transactions between December 2018 to May 2021"
   ]
  }
 ],
 "metadata": {
  "kernelspec": {
   "display_name": "Python 3",
   "language": "python",
   "name": "python3"
  },
  "language_info": {
   "codemirror_mode": {
    "name": "ipython",
    "version": 3
   },
   "file_extension": ".py",
   "mimetype": "text/x-python",
   "name": "python",
   "nbconvert_exporter": "python",
   "pygments_lexer": "ipython3",
   "version": "3.8.5"
  }
 },
 "nbformat": 4,
 "nbformat_minor": 4
}
