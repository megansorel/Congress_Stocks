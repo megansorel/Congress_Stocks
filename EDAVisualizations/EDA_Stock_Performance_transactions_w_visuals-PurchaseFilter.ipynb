{
 "cells": [
  {
   "cell_type": "code",
   "execution_count": 1,
   "metadata": {
    "ExecuteTime": {
     "end_time": "2021-06-11T15:59:42.779024Z",
     "start_time": "2021-06-11T15:59:42.775911Z"
    }
   },
   "outputs": [],
   "source": [
    "import pandas as pd\n",
    "import matplotlib.pyplot as plt\n",
    "import seaborn as sns\n",
    "import numpy as np"
   ]
  },
  {
   "cell_type": "code",
   "execution_count": 2,
   "metadata": {
    "ExecuteTime": {
     "end_time": "2021-06-11T15:59:42.857935Z",
     "start_time": "2021-06-11T15:59:42.781554Z"
    }
   },
   "outputs": [],
   "source": [
    "df = pd.read_csv('../data/stock_percentage_difference.csv')"
   ]
  },
  {
   "cell_type": "code",
   "execution_count": 3,
   "metadata": {
    "ExecuteTime": {
     "end_time": "2021-06-11T15:59:42.868627Z",
     "start_time": "2021-06-11T15:59:42.860881Z"
    }
   },
   "outputs": [],
   "source": [
    "#dropping because I deleted in feature engineering thing\n",
    "# df.drop(columns=['Unnamed: 0','merge_key','people'], inplace=True)"
   ]
  },
  {
   "cell_type": "code",
   "execution_count": 4,
   "metadata": {
    "ExecuteTime": {
     "end_time": "2021-06-11T18:20:47.757570Z",
     "start_time": "2021-06-11T18:20:47.718130Z"
    }
   },
   "outputs": [],
   "source": [
    "#df_purchases = df[df['type'] == 'purchase']"
   ]
  },
  {
   "cell_type": "code",
   "execution_count": 5,
   "metadata": {
    "ExecuteTime": {
     "end_time": "2021-06-11T18:20:23.148143Z",
     "start_time": "2021-06-11T18:20:23.142622Z"
    }
   },
   "outputs": [
    {
     "data": {
      "text/plain": [
       "0        sale_partial\n",
       "1            purchase\n",
       "2            purchase\n",
       "3        sale_partial\n",
       "4        sale_partial\n",
       "             ...     \n",
       "10076    sale_partial\n",
       "10077    sale_partial\n",
       "10078        purchase\n",
       "10079        purchase\n",
       "10080    sale_partial\n",
       "Name: type, Length: 10081, dtype: object"
      ]
     },
     "execution_count": 5,
     "metadata": {},
     "output_type": "execute_result"
    }
   ],
   "source": [
    "df.type"
   ]
  },
  {
   "cell_type": "code",
   "execution_count": 6,
   "metadata": {
    "ExecuteTime": {
     "end_time": "2021-06-11T15:59:42.878482Z",
     "start_time": "2021-06-11T15:59:42.872675Z"
    }
   },
   "outputs": [
    {
     "data": {
      "text/plain": [
       "Index(['level_0', 'transaction_date', 'ticker', 'asset_description', 'type',\n",
       "       'amount', 'representative', 'timestamp', 'state', 'party_x',\n",
       "       'total_senate_years', 'total_house_years', 'total_years',\n",
       "       'total_raised', 'total_from_small_donors', 'percent_from_small_donors*',\n",
       "       'total_money_raised', 'start', 'day_30', 'day_30_stock_perc_diff',\n",
       "       'day_60', 'day_60_stock_perc_diff', 'day_90', 'day_90_stock_perc_diff',\n",
       "       'day_180', 'day_180_stock_perc_diff', 'sp_start', 'sp_30',\n",
       "       'sp_30_sp_perc_diff', 'sp_60', 'sp_60_sp_perc_diff', 'sp_90',\n",
       "       'sp_90_sp_perc_diff', 'sp_180', 'sp_180_sp_perc_diff'],\n",
       "      dtype='object')"
      ]
     },
     "execution_count": 6,
     "metadata": {},
     "output_type": "execute_result"
    }
   ],
   "source": [
    "df.columns"
   ]
  },
  {
   "cell_type": "code",
   "execution_count": 7,
   "metadata": {
    "ExecuteTime": {
     "end_time": "2021-06-11T15:59:42.886934Z",
     "start_time": "2021-06-11T15:59:42.880801Z"
    }
   },
   "outputs": [
    {
     "data": {
      "text/plain": [
       "138"
      ]
     },
     "execution_count": 7,
     "metadata": {},
     "output_type": "execute_result"
    }
   ],
   "source": [
    "df['representative'].nunique()"
   ]
  },
  {
   "cell_type": "code",
   "execution_count": 8,
   "metadata": {
    "ExecuteTime": {
     "end_time": "2021-06-11T15:59:42.896022Z",
     "start_time": "2021-06-11T15:59:42.889940Z"
    }
   },
   "outputs": [
    {
     "data": {
      "text/plain": [
       "'2013-03-15'"
      ]
     },
     "execution_count": 8,
     "metadata": {},
     "output_type": "execute_result"
    }
   ],
   "source": [
    "# start of data\n",
    "df['transaction_date'].min()"
   ]
  },
  {
   "cell_type": "code",
   "execution_count": 9,
   "metadata": {
    "ExecuteTime": {
     "end_time": "2021-06-11T15:59:42.905178Z",
     "start_time": "2021-06-11T15:59:42.898671Z"
    }
   },
   "outputs": [
    {
     "data": {
      "text/plain": [
       "'2020-11-24'"
      ]
     },
     "execution_count": 9,
     "metadata": {},
     "output_type": "execute_result"
    }
   ],
   "source": [
    "# end of data\n",
    "df['transaction_date'].max()"
   ]
  },
  {
   "cell_type": "code",
   "execution_count": 10,
   "metadata": {
    "ExecuteTime": {
     "end_time": "2021-06-11T15:59:42.936539Z",
     "start_time": "2021-06-11T15:59:42.910519Z"
    }
   },
   "outputs": [
    {
     "data": {
      "text/html": [
       "<div>\n",
       "<style scoped>\n",
       "    .dataframe tbody tr th:only-of-type {\n",
       "        vertical-align: middle;\n",
       "    }\n",
       "\n",
       "    .dataframe tbody tr th {\n",
       "        vertical-align: top;\n",
       "    }\n",
       "\n",
       "    .dataframe thead th {\n",
       "        text-align: right;\n",
       "    }\n",
       "</style>\n",
       "<table border=\"1\" class=\"dataframe\">\n",
       "  <thead>\n",
       "    <tr style=\"text-align: right;\">\n",
       "      <th></th>\n",
       "      <th>level_0</th>\n",
       "      <th>transaction_date</th>\n",
       "      <th>ticker</th>\n",
       "      <th>asset_description</th>\n",
       "      <th>type</th>\n",
       "      <th>amount</th>\n",
       "      <th>representative</th>\n",
       "      <th>timestamp</th>\n",
       "      <th>state</th>\n",
       "      <th>party_x</th>\n",
       "      <th>...</th>\n",
       "      <th>day_180_stock_perc_diff</th>\n",
       "      <th>sp_start</th>\n",
       "      <th>sp_30</th>\n",
       "      <th>sp_30_sp_perc_diff</th>\n",
       "      <th>sp_60</th>\n",
       "      <th>sp_60_sp_perc_diff</th>\n",
       "      <th>sp_90</th>\n",
       "      <th>sp_90_sp_perc_diff</th>\n",
       "      <th>sp_180</th>\n",
       "      <th>sp_180_sp_perc_diff</th>\n",
       "    </tr>\n",
       "  </thead>\n",
       "  <tbody>\n",
       "    <tr>\n",
       "      <th>0</th>\n",
       "      <td>0</td>\n",
       "      <td>2020-03-18</td>\n",
       "      <td>CBRE</td>\n",
       "      <td>CBRE Group Inc Common Stock Class A</td>\n",
       "      <td>sale_partial</td>\n",
       "      <td>$1,001 - $15,000</td>\n",
       "      <td>Susie Lee</td>\n",
       "      <td>1584504000</td>\n",
       "      <td>Nevada</td>\n",
       "      <td>Democratic</td>\n",
       "      <td>...</td>\n",
       "      <td>0.321</td>\n",
       "      <td>2398.100098</td>\n",
       "      <td>2874.560059</td>\n",
       "      <td>0.199</td>\n",
       "      <td>2953.909912</td>\n",
       "      <td>0.232</td>\n",
       "      <td>3097.73999</td>\n",
       "      <td>0.292</td>\n",
       "      <td>3340.969971</td>\n",
       "      <td>0.393</td>\n",
       "    </tr>\n",
       "  </tbody>\n",
       "</table>\n",
       "<p>1 rows × 35 columns</p>\n",
       "</div>"
      ],
      "text/plain": [
       "   level_0 transaction_date ticker                    asset_description  \\\n",
       "0        0       2020-03-18   CBRE  CBRE Group Inc Common Stock Class A   \n",
       "\n",
       "           type            amount representative   timestamp   state  \\\n",
       "0  sale_partial  $1,001 - $15,000      Susie Lee  1584504000  Nevada   \n",
       "\n",
       "      party_x  ...  day_180_stock_perc_diff     sp_start        sp_30  \\\n",
       "0  Democratic  ...                    0.321  2398.100098  2874.560059   \n",
       "\n",
       "  sp_30_sp_perc_diff        sp_60 sp_60_sp_perc_diff       sp_90  \\\n",
       "0              0.199  2953.909912              0.232  3097.73999   \n",
       "\n",
       "   sp_90_sp_perc_diff       sp_180  sp_180_sp_perc_diff  \n",
       "0               0.292  3340.969971                0.393  \n",
       "\n",
       "[1 rows x 35 columns]"
      ]
     },
     "execution_count": 10,
     "metadata": {},
     "output_type": "execute_result"
    }
   ],
   "source": [
    "df.head(1)"
   ]
  },
  {
   "cell_type": "code",
   "execution_count": 11,
   "metadata": {
    "ExecuteTime": {
     "end_time": "2021-06-11T15:59:42.947023Z",
     "start_time": "2021-06-11T15:59:42.939813Z"
    }
   },
   "outputs": [],
   "source": [
    "# how many transactions did \n",
    "df_transaction_num = df.groupby(['representative'])[['ticker']].count()"
   ]
  },
  {
   "cell_type": "code",
   "execution_count": 12,
   "metadata": {
    "ExecuteTime": {
     "end_time": "2021-06-11T15:59:42.960361Z",
     "start_time": "2021-06-11T15:59:42.950825Z"
    }
   },
   "outputs": [
    {
     "data": {
      "text/html": [
       "<div>\n",
       "<style scoped>\n",
       "    .dataframe tbody tr th:only-of-type {\n",
       "        vertical-align: middle;\n",
       "    }\n",
       "\n",
       "    .dataframe tbody tr th {\n",
       "        vertical-align: top;\n",
       "    }\n",
       "\n",
       "    .dataframe thead th {\n",
       "        text-align: right;\n",
       "    }\n",
       "</style>\n",
       "<table border=\"1\" class=\"dataframe\">\n",
       "  <thead>\n",
       "    <tr style=\"text-align: right;\">\n",
       "      <th></th>\n",
       "      <th>ticker</th>\n",
       "    </tr>\n",
       "    <tr>\n",
       "      <th>representative</th>\n",
       "      <th></th>\n",
       "    </tr>\n",
       "  </thead>\n",
       "  <tbody>\n",
       "    <tr>\n",
       "      <th>David A Perdue , Jr</th>\n",
       "      <td>1627</td>\n",
       "    </tr>\n",
       "  </tbody>\n",
       "</table>\n",
       "</div>"
      ],
      "text/plain": [
       "                     ticker\n",
       "representative             \n",
       "David A Perdue , Jr    1627"
      ]
     },
     "execution_count": 12,
     "metadata": {},
     "output_type": "execute_result"
    }
   ],
   "source": [
    "df_transaction_num[df_transaction_num['ticker']==1627]"
   ]
  },
  {
   "cell_type": "code",
   "execution_count": 13,
   "metadata": {
    "ExecuteTime": {
     "end_time": "2021-06-11T15:59:42.971596Z",
     "start_time": "2021-06-11T15:59:42.963708Z"
    }
   },
   "outputs": [],
   "source": [
    "con_stocks_avg_180_days = df.groupby(['representative'])[['day_180_stock_perc_diff']].mean()\n"
   ]
  },
  {
   "cell_type": "code",
   "execution_count": 14,
   "metadata": {
    "ExecuteTime": {
     "end_time": "2021-06-11T15:59:42.982076Z",
     "start_time": "2021-06-11T15:59:42.973733Z"
    }
   },
   "outputs": [],
   "source": [
    "# get the avg stock performance by representative after 180 days\n",
    "con_stocks_avg_180_days = df.groupby(['representative'])[['day_180_stock_perc_diff']].mean()\n",
    "\n",
    "# get the mean S&P 500 performance after 180 days from when a congressman purchased stock\n",
    "sp_avg_180_days = df.groupby(['representative'])[['sp_180_sp_perc_diff']].mean()"
   ]
  },
  {
   "cell_type": "code",
   "execution_count": 15,
   "metadata": {
    "ExecuteTime": {
     "end_time": "2021-06-11T15:59:42.992915Z",
     "start_time": "2021-06-11T15:59:42.983796Z"
    }
   },
   "outputs": [
    {
     "data": {
      "text/html": [
       "<div>\n",
       "<style scoped>\n",
       "    .dataframe tbody tr th:only-of-type {\n",
       "        vertical-align: middle;\n",
       "    }\n",
       "\n",
       "    .dataframe tbody tr th {\n",
       "        vertical-align: top;\n",
       "    }\n",
       "\n",
       "    .dataframe thead th {\n",
       "        text-align: right;\n",
       "    }\n",
       "</style>\n",
       "<table border=\"1\" class=\"dataframe\">\n",
       "  <thead>\n",
       "    <tr style=\"text-align: right;\">\n",
       "      <th></th>\n",
       "      <th>day_180_stock_perc_diff</th>\n",
       "    </tr>\n",
       "    <tr>\n",
       "      <th>representative</th>\n",
       "      <th></th>\n",
       "    </tr>\n",
       "  </thead>\n",
       "  <tbody>\n",
       "    <tr>\n",
       "      <th>Thomas Massie</th>\n",
       "      <td>1.901000</td>\n",
       "    </tr>\n",
       "    <tr>\n",
       "      <th>Austin Scott</th>\n",
       "      <td>1.404000</td>\n",
       "    </tr>\n",
       "    <tr>\n",
       "      <th>Kim Schrier</th>\n",
       "      <td>1.048250</td>\n",
       "    </tr>\n",
       "    <tr>\n",
       "      <th>Bradley S. Schneider</th>\n",
       "      <td>0.984000</td>\n",
       "    </tr>\n",
       "    <tr>\n",
       "      <th>Brian Mast</th>\n",
       "      <td>0.928684</td>\n",
       "    </tr>\n",
       "    <tr>\n",
       "      <th>...</th>\n",
       "      <td>...</td>\n",
       "    </tr>\n",
       "    <tr>\n",
       "      <th>Bill Pascrell</th>\n",
       "      <td>-0.129000</td>\n",
       "    </tr>\n",
       "    <tr>\n",
       "      <th>Michael Patrick Guest</th>\n",
       "      <td>-0.227000</td>\n",
       "    </tr>\n",
       "    <tr>\n",
       "      <th>Neal Patrick MD, Facs Dunn</th>\n",
       "      <td>-0.229125</td>\n",
       "    </tr>\n",
       "    <tr>\n",
       "      <th>Linda T. Sanchez</th>\n",
       "      <td>-0.375000</td>\n",
       "    </tr>\n",
       "    <tr>\n",
       "      <th>Tim Burchett</th>\n",
       "      <td>-0.520000</td>\n",
       "    </tr>\n",
       "  </tbody>\n",
       "</table>\n",
       "<p>138 rows × 1 columns</p>\n",
       "</div>"
      ],
      "text/plain": [
       "                            day_180_stock_perc_diff\n",
       "representative                                     \n",
       "Thomas Massie                              1.901000\n",
       "Austin Scott                               1.404000\n",
       "Kim Schrier                                1.048250\n",
       "Bradley S. Schneider                       0.984000\n",
       "Brian Mast                                 0.928684\n",
       "...                                             ...\n",
       "Bill Pascrell                             -0.129000\n",
       "Michael Patrick Guest                     -0.227000\n",
       "Neal Patrick MD, Facs Dunn                -0.229125\n",
       "Linda T. Sanchez                          -0.375000\n",
       "Tim Burchett                              -0.520000\n",
       "\n",
       "[138 rows x 1 columns]"
      ]
     },
     "execution_count": 15,
     "metadata": {},
     "output_type": "execute_result"
    }
   ],
   "source": [
    "# look at the top stock returns for congressmen and congresswomen\n",
    "con_stocks_avg_180_days.sort_values(by='day_180_stock_perc_diff',ascending=False)"
   ]
  },
  {
   "cell_type": "markdown",
   "metadata": {},
   "source": [
    "# Top Performer Analysis\n",
    "Massie sold Tesla stock only, but had a sizable return. His total invesment was less than  50k. Austin Scott bought Bloom Energy and FuelCell Energy, Ballard Power systems, Exxon, GE, Plug Power with lots of small investments. Kim Schrier sold lots of Apple stock in March 2020 worth ~1+ million dollars. Schneider only sold Trupanion worth approximately 1 $million."
   ]
  },
  {
   "cell_type": "code",
   "execution_count": 16,
   "metadata": {
    "ExecuteTime": {
     "end_time": "2021-06-11T15:59:42.998668Z",
     "start_time": "2021-06-11T15:59:42.994977Z"
    }
   },
   "outputs": [],
   "source": [
    "# merge performance of two dataframes\n",
    "con_sp_180d_avg_merge = con_stocks_avg_180_days.merge(sp_avg_180_days, left_index=True, right_index=True)"
   ]
  },
  {
   "cell_type": "code",
   "execution_count": 17,
   "metadata": {
    "ExecuteTime": {
     "end_time": "2021-06-11T15:59:43.006410Z",
     "start_time": "2021-06-11T15:59:43.001678Z"
    }
   },
   "outputs": [],
   "source": [
    "# merge transaction numbers with stock performance\n",
    "stock_perform = con_sp_180d_avg_merge.merge(df_transaction_num, left_index=True, right_index=True)"
   ]
  },
  {
   "cell_type": "code",
   "execution_count": 18,
   "metadata": {
    "ExecuteTime": {
     "end_time": "2021-06-11T15:59:43.013936Z",
     "start_time": "2021-06-11T15:59:43.009191Z"
    }
   },
   "outputs": [],
   "source": [
    "# create new column for how much their investments made above the s&p500 average\n",
    "stock_perform['performance_diff_sp500'] = stock_perform['day_180_stock_perc_diff'] - stock_perform['sp_180_sp_perc_diff']"
   ]
  },
  {
   "cell_type": "code",
   "execution_count": 19,
   "metadata": {
    "ExecuteTime": {
     "end_time": "2021-06-11T15:59:43.021540Z",
     "start_time": "2021-06-11T15:59:43.016653Z"
    }
   },
   "outputs": [
    {
     "data": {
      "text/plain": [
       "Index(['day_180_stock_perc_diff', 'sp_180_sp_perc_diff', 'ticker',\n",
       "       'performance_diff_sp500'],\n",
       "      dtype='object')"
      ]
     },
     "execution_count": 19,
     "metadata": {},
     "output_type": "execute_result"
    }
   ],
   "source": [
    "stock_perform.columns"
   ]
  },
  {
   "cell_type": "code",
   "execution_count": 20,
   "metadata": {
    "ExecuteTime": {
     "end_time": "2021-06-11T15:59:43.026815Z",
     "start_time": "2021-06-11T15:59:43.023799Z"
    }
   },
   "outputs": [],
   "source": [
    "stock_perform.columns = ['day_180_avg_stock_perc_diff', 'day_180_avg_sp_perc_diff', 'stock_transactions',\n",
    "       'performance_vs_avg_180days']"
   ]
  },
  {
   "cell_type": "code",
   "execution_count": 21,
   "metadata": {
    "ExecuteTime": {
     "end_time": "2021-06-11T15:59:45.827221Z",
     "start_time": "2021-06-11T15:59:45.813350Z"
    },
    "scrolled": false
   },
   "outputs": [
    {
     "data": {
      "text/html": [
       "<div>\n",
       "<style scoped>\n",
       "    .dataframe tbody tr th:only-of-type {\n",
       "        vertical-align: middle;\n",
       "    }\n",
       "\n",
       "    .dataframe tbody tr th {\n",
       "        vertical-align: top;\n",
       "    }\n",
       "\n",
       "    .dataframe thead th {\n",
       "        text-align: right;\n",
       "    }\n",
       "</style>\n",
       "<table border=\"1\" class=\"dataframe\">\n",
       "  <thead>\n",
       "    <tr style=\"text-align: right;\">\n",
       "      <th></th>\n",
       "      <th>day_180_avg_stock_perc_diff</th>\n",
       "      <th>day_180_avg_sp_perc_diff</th>\n",
       "      <th>stock_transactions</th>\n",
       "      <th>performance_vs_avg_180days</th>\n",
       "    </tr>\n",
       "    <tr>\n",
       "      <th>representative</th>\n",
       "      <th></th>\n",
       "      <th></th>\n",
       "      <th></th>\n",
       "      <th></th>\n",
       "    </tr>\n",
       "  </thead>\n",
       "  <tbody>\n",
       "    <tr>\n",
       "      <th>Thomas Massie</th>\n",
       "      <td>1.901000</td>\n",
       "      <td>0.196000</td>\n",
       "      <td>1</td>\n",
       "      <td>1.705000</td>\n",
       "    </tr>\n",
       "    <tr>\n",
       "      <th>Austin Scott</th>\n",
       "      <td>1.404000</td>\n",
       "      <td>0.191000</td>\n",
       "      <td>13</td>\n",
       "      <td>1.213000</td>\n",
       "    </tr>\n",
       "    <tr>\n",
       "      <th>Kim Schrier</th>\n",
       "      <td>1.048250</td>\n",
       "      <td>0.159250</td>\n",
       "      <td>8</td>\n",
       "      <td>0.889000</td>\n",
       "    </tr>\n",
       "    <tr>\n",
       "      <th>Bradley S. Schneider</th>\n",
       "      <td>0.984000</td>\n",
       "      <td>0.150000</td>\n",
       "      <td>3</td>\n",
       "      <td>0.834000</td>\n",
       "    </tr>\n",
       "    <tr>\n",
       "      <th>Brian Mast</th>\n",
       "      <td>0.928684</td>\n",
       "      <td>0.112526</td>\n",
       "      <td>19</td>\n",
       "      <td>0.816158</td>\n",
       "    </tr>\n",
       "    <tr>\n",
       "      <th>...</th>\n",
       "      <td>...</td>\n",
       "      <td>...</td>\n",
       "      <td>...</td>\n",
       "      <td>...</td>\n",
       "    </tr>\n",
       "    <tr>\n",
       "      <th>Michael Patrick Guest</th>\n",
       "      <td>-0.227000</td>\n",
       "      <td>0.016000</td>\n",
       "      <td>2</td>\n",
       "      <td>-0.243000</td>\n",
       "    </tr>\n",
       "    <tr>\n",
       "      <th>Neal Patrick MD, Facs Dunn</th>\n",
       "      <td>-0.229125</td>\n",
       "      <td>0.027125</td>\n",
       "      <td>8</td>\n",
       "      <td>-0.256250</td>\n",
       "    </tr>\n",
       "    <tr>\n",
       "      <th>Billy Long</th>\n",
       "      <td>0.087000</td>\n",
       "      <td>0.400000</td>\n",
       "      <td>16</td>\n",
       "      <td>-0.313000</td>\n",
       "    </tr>\n",
       "    <tr>\n",
       "      <th>Linda T. Sanchez</th>\n",
       "      <td>-0.375000</td>\n",
       "      <td>0.039000</td>\n",
       "      <td>1</td>\n",
       "      <td>-0.414000</td>\n",
       "    </tr>\n",
       "    <tr>\n",
       "      <th>Tim Burchett</th>\n",
       "      <td>-0.520000</td>\n",
       "      <td>-0.008000</td>\n",
       "      <td>1</td>\n",
       "      <td>-0.512000</td>\n",
       "    </tr>\n",
       "  </tbody>\n",
       "</table>\n",
       "<p>138 rows × 4 columns</p>\n",
       "</div>"
      ],
      "text/plain": [
       "                            day_180_avg_stock_perc_diff  \\\n",
       "representative                                            \n",
       "Thomas Massie                                  1.901000   \n",
       "Austin Scott                                   1.404000   \n",
       "Kim Schrier                                    1.048250   \n",
       "Bradley S. Schneider                           0.984000   \n",
       "Brian Mast                                     0.928684   \n",
       "...                                                 ...   \n",
       "Michael Patrick Guest                         -0.227000   \n",
       "Neal Patrick MD, Facs Dunn                    -0.229125   \n",
       "Billy Long                                     0.087000   \n",
       "Linda T. Sanchez                              -0.375000   \n",
       "Tim Burchett                                  -0.520000   \n",
       "\n",
       "                            day_180_avg_sp_perc_diff  stock_transactions  \\\n",
       "representative                                                             \n",
       "Thomas Massie                               0.196000                   1   \n",
       "Austin Scott                                0.191000                  13   \n",
       "Kim Schrier                                 0.159250                   8   \n",
       "Bradley S. Schneider                        0.150000                   3   \n",
       "Brian Mast                                  0.112526                  19   \n",
       "...                                              ...                 ...   \n",
       "Michael Patrick Guest                       0.016000                   2   \n",
       "Neal Patrick MD, Facs Dunn                  0.027125                   8   \n",
       "Billy Long                                  0.400000                  16   \n",
       "Linda T. Sanchez                            0.039000                   1   \n",
       "Tim Burchett                               -0.008000                   1   \n",
       "\n",
       "                            performance_vs_avg_180days  \n",
       "representative                                          \n",
       "Thomas Massie                                 1.705000  \n",
       "Austin Scott                                  1.213000  \n",
       "Kim Schrier                                   0.889000  \n",
       "Bradley S. Schneider                          0.834000  \n",
       "Brian Mast                                    0.816158  \n",
       "...                                                ...  \n",
       "Michael Patrick Guest                        -0.243000  \n",
       "Neal Patrick MD, Facs Dunn                   -0.256250  \n",
       "Billy Long                                   -0.313000  \n",
       "Linda T. Sanchez                             -0.414000  \n",
       "Tim Burchett                                 -0.512000  \n",
       "\n",
       "[138 rows x 4 columns]"
      ]
     },
     "execution_count": 21,
     "metadata": {},
     "output_type": "execute_result"
    }
   ],
   "source": [
    "# look at top and bottom performers\n",
    "stock_perform.sort_values(by='performance_vs_avg_180days',ascending=False)\n"
   ]
  },
  {
   "cell_type": "markdown",
   "metadata": {},
   "source": [
    "We should probably drop the senators who only made one transaction."
   ]
  },
  {
   "cell_type": "code",
   "execution_count": 22,
   "metadata": {
    "ExecuteTime": {
     "end_time": "2021-06-11T18:15:29.484831Z",
     "start_time": "2021-06-11T18:15:29.480519Z"
    }
   },
   "outputs": [
    {
     "data": {
      "text/plain": [
       "0.02463029461362966"
      ]
     },
     "execution_count": 22,
     "metadata": {},
     "output_type": "execute_result"
    }
   ],
   "source": [
    "# measuring stock performance at 30 days, 60 days 90 days\n",
    "df['day_30_stock_perc_diff'].mean()"
   ]
  },
  {
   "cell_type": "code",
   "execution_count": 23,
   "metadata": {
    "ExecuteTime": {
     "end_time": "2021-06-11T18:16:21.951659Z",
     "start_time": "2021-06-11T18:16:21.947244Z"
    }
   },
   "outputs": [
    {
     "data": {
      "text/plain": [
       "0.02034937010217249"
      ]
     },
     "execution_count": 23,
     "metadata": {},
     "output_type": "execute_result"
    }
   ],
   "source": [
    "df['sp_30_sp_perc_diff'].mean()"
   ]
  },
  {
   "cell_type": "code",
   "execution_count": 24,
   "metadata": {
    "ExecuteTime": {
     "end_time": "2021-06-11T18:15:45.200695Z",
     "start_time": "2021-06-11T18:15:45.196576Z"
    }
   },
   "outputs": [
    {
     "data": {
      "text/plain": [
       "Index(['level_0', 'transaction_date', 'ticker', 'asset_description', 'type',\n",
       "       'amount', 'representative', 'timestamp', 'state', 'party_x',\n",
       "       'total_senate_years', 'total_house_years', 'total_years',\n",
       "       'total_raised', 'total_from_small_donors', 'percent_from_small_donors*',\n",
       "       'total_money_raised', 'start', 'day_30', 'day_30_stock_perc_diff',\n",
       "       'day_60', 'day_60_stock_perc_diff', 'day_90', 'day_90_stock_perc_diff',\n",
       "       'day_180', 'day_180_stock_perc_diff', 'sp_start', 'sp_30',\n",
       "       'sp_30_sp_perc_diff', 'sp_60', 'sp_60_sp_perc_diff', 'sp_90',\n",
       "       'sp_90_sp_perc_diff', 'sp_180', 'sp_180_sp_perc_diff'],\n",
       "      dtype='object')"
      ]
     },
     "execution_count": 24,
     "metadata": {},
     "output_type": "execute_result"
    }
   ],
   "source": [
    "df.columns"
   ]
  },
  {
   "cell_type": "code",
   "execution_count": 25,
   "metadata": {
    "ExecuteTime": {
     "end_time": "2021-06-11T16:00:02.188765Z",
     "start_time": "2021-06-11T16:00:02.183945Z"
    },
    "scrolled": false
   },
   "outputs": [],
   "source": [
    "# clean dataframe for analysis\n",
    "# drop congressmen with less than 10 transactions.\n",
    "# our high performer and low performers only \n",
    "stock_perform_sorted = stock_perform[stock_perform['stock_transactions']>=3].sort_values(by='performance_vs_avg_180days',ascending=False)"
   ]
  },
  {
   "cell_type": "code",
   "execution_count": 26,
   "metadata": {
    "ExecuteTime": {
     "end_time": "2021-06-11T16:00:03.995806Z",
     "start_time": "2021-06-11T16:00:03.991504Z"
    }
   },
   "outputs": [],
   "source": [
    "# save congressmen sorted by best investments over the s&p500 (average) at the same time\n",
    "\n",
    "stock_perform_sorted = stock_perform[stock_perform['stock_transactions']>=5].sort_values(by='performance_vs_avg_180days',ascending=False)"
   ]
  },
  {
   "cell_type": "code",
   "execution_count": 27,
   "metadata": {
    "ExecuteTime": {
     "end_time": "2021-06-11T18:09:00.016789Z",
     "start_time": "2021-06-11T18:09:00.012878Z"
    }
   },
   "outputs": [
    {
     "data": {
      "text/plain": [
       "0.1386667586820963"
      ]
     },
     "execution_count": 27,
     "metadata": {},
     "output_type": "execute_result"
    }
   ],
   "source": [
    "stock_perform_sorted['day_180_avg_sp_perc_diff'].mean()"
   ]
  },
  {
   "cell_type": "code",
   "execution_count": 28,
   "metadata": {
    "ExecuteTime": {
     "end_time": "2021-06-11T16:00:15.275601Z",
     "start_time": "2021-06-11T16:00:14.799112Z"
    }
   },
   "outputs": [
    {
     "data": {
      "image/png": "[encoded data removed]",
      "text/plain": [
       "<Figure size 432x288 with 4 Axes>"
      ]
     },
     "metadata": {
      "needs_background": "light"
     },
     "output_type": "display_data"
    }
   ],
   "source": [
    "# distirbutions of stock performance\n",
    "stock_perform.hist();"
   ]
  },
  {
   "cell_type": "code",
   "execution_count": 29,
   "metadata": {
    "ExecuteTime": {
     "end_time": "2021-06-11T17:22:31.749780Z",
     "start_time": "2021-06-11T17:22:28.711181Z"
    }
   },
   "outputs": [
    {
     "data": {
      "image/png": "[encoded data removed]",
      "text/plain": [
       "<Figure size 720x720 with 20 Axes>"
      ]
     },
     "metadata": {
      "needs_background": "light"
     },
     "output_type": "display_data"
    }
   ],
   "source": [
    "# correlations\n",
    "sns.pairplot(stock_perform);"
   ]
  },
  {
   "cell_type": "code",
   "execution_count": 30,
   "metadata": {
    "ExecuteTime": {
     "end_time": "2021-06-11T16:00:31.801302Z",
     "start_time": "2021-06-11T16:00:31.796626Z"
    }
   },
   "outputs": [
    {
     "data": {
      "text/plain": [
       "Index(['Austin Scott', 'Kim Schrier', 'Brian Mast', 'Michael Garcia',\n",
       "       'Frank Pallone'],\n",
       "      dtype='object', name='representative')"
      ]
     },
     "execution_count": 30,
     "metadata": {},
     "output_type": "execute_result"
    }
   ],
   "source": [
    "stock_perform_sorted.index[:5]"
   ]
  },
  {
   "cell_type": "code",
   "execution_count": 31,
   "metadata": {
    "ExecuteTime": {
     "end_time": "2021-06-11T16:00:33.970844Z",
     "start_time": "2021-06-11T16:00:33.949483Z"
    }
   },
   "outputs": [
    {
     "data": {
      "text/html": [
       "<div>\n",
       "<style scoped>\n",
       "    .dataframe tbody tr th:only-of-type {\n",
       "        vertical-align: middle;\n",
       "    }\n",
       "\n",
       "    .dataframe tbody tr th {\n",
       "        vertical-align: top;\n",
       "    }\n",
       "\n",
       "    .dataframe thead th {\n",
       "        text-align: right;\n",
       "    }\n",
       "</style>\n",
       "<table border=\"1\" class=\"dataframe\">\n",
       "  <thead>\n",
       "    <tr style=\"text-align: right;\">\n",
       "      <th></th>\n",
       "      <th>level_0</th>\n",
       "      <th>transaction_date</th>\n",
       "      <th>ticker</th>\n",
       "      <th>asset_description</th>\n",
       "      <th>type</th>\n",
       "      <th>amount</th>\n",
       "      <th>representative</th>\n",
       "      <th>timestamp</th>\n",
       "      <th>state</th>\n",
       "      <th>party_x</th>\n",
       "      <th>...</th>\n",
       "      <th>day_180_stock_perc_diff</th>\n",
       "      <th>sp_start</th>\n",
       "      <th>sp_30</th>\n",
       "      <th>sp_30_sp_perc_diff</th>\n",
       "      <th>sp_60</th>\n",
       "      <th>sp_60_sp_perc_diff</th>\n",
       "      <th>sp_90</th>\n",
       "      <th>sp_90_sp_perc_diff</th>\n",
       "      <th>sp_180</th>\n",
       "      <th>sp_180_sp_perc_diff</th>\n",
       "    </tr>\n",
       "  </thead>\n",
       "  <tbody>\n",
       "    <tr>\n",
       "      <th>0</th>\n",
       "      <td>0</td>\n",
       "      <td>2020-03-18</td>\n",
       "      <td>CBRE</td>\n",
       "      <td>CBRE Group Inc Common Stock Class A</td>\n",
       "      <td>sale_partial</td>\n",
       "      <td>$1,001 - $15,000</td>\n",
       "      <td>Susie Lee</td>\n",
       "      <td>1584504000</td>\n",
       "      <td>Nevada</td>\n",
       "      <td>Democratic</td>\n",
       "      <td>...</td>\n",
       "      <td>0.321</td>\n",
       "      <td>2398.100098</td>\n",
       "      <td>2874.560059</td>\n",
       "      <td>0.199</td>\n",
       "      <td>2953.909912</td>\n",
       "      <td>0.232</td>\n",
       "      <td>3097.73999</td>\n",
       "      <td>0.292</td>\n",
       "      <td>3340.969971</td>\n",
       "      <td>0.393</td>\n",
       "    </tr>\n",
       "  </tbody>\n",
       "</table>\n",
       "<p>1 rows × 35 columns</p>\n",
       "</div>"
      ],
      "text/plain": [
       "   level_0 transaction_date ticker                    asset_description  \\\n",
       "0        0       2020-03-18   CBRE  CBRE Group Inc Common Stock Class A   \n",
       "\n",
       "           type            amount representative   timestamp   state  \\\n",
       "0  sale_partial  $1,001 - $15,000      Susie Lee  1584504000  Nevada   \n",
       "\n",
       "      party_x  ...  day_180_stock_perc_diff     sp_start        sp_30  \\\n",
       "0  Democratic  ...                    0.321  2398.100098  2874.560059   \n",
       "\n",
       "  sp_30_sp_perc_diff        sp_60 sp_60_sp_perc_diff       sp_90  \\\n",
       "0              0.199  2953.909912              0.232  3097.73999   \n",
       "\n",
       "   sp_90_sp_perc_diff       sp_180  sp_180_sp_perc_diff  \n",
       "0               0.292  3340.969971                0.393  \n",
       "\n",
       "[1 rows x 35 columns]"
      ]
     },
     "execution_count": 31,
     "metadata": {},
     "output_type": "execute_result"
    }
   ],
   "source": [
    "df.head(1)"
   ]
  },
  {
   "cell_type": "code",
   "execution_count": 32,
   "metadata": {
    "ExecuteTime": {
     "end_time": "2021-06-11T16:05:55.581197Z",
     "start_time": "2021-06-11T16:05:55.292752Z"
    }
   },
   "outputs": [
    {
     "data": {
      "image/png": "[encoded data removed]",
      "text/plain": [
       "<Figure size 576x432 with 1 Axes>"
      ]
     },
     "metadata": {
      "needs_background": "light"
     },
     "output_type": "display_data"
    }
   ],
   "source": [
    "# visualizations\n",
    "\n",
    "# top 10 congress performers\n",
    "\n",
    "\n",
    "# get grouped returns by person (fill with columns as needed)\n",
    "values = stock_perform_sorted[:10]\n",
    "\n",
    "#getting names of top 5 reps\n",
    "barchart_names = values.index[:10]\n",
    "labels = [col for col in barchart_names]\n",
    "#getting corresponding names \n",
    "lst_one = [item for item in values.day_180_avg_stock_perc_diff[:10].values]\n",
    "lst_two =  [item for item in values.day_180_avg_sp_perc_diff[:10].values]\n",
    "#make labels and bar locations\n",
    "x = np.arange(len(labels))  # the label locations\n",
    "width = 0.4  # the width of the bars\n",
    "# plot both columns next to eachother \n",
    "fig, ax = plt.subplots(figsize = (8, 6))\n",
    "rects1 = ax.bar(x - width/2, lst_one, width, label='Congress Percent Returns', color = 'firebrick')\n",
    "rects2 = ax.bar(x + width/2, lst_two, width, label='S&P500 Percent Returns ', color = 'dodgerblue')\n",
    "# Add some text for labels, title and custom x-axis tick labels, etc.\n",
    "ax.set_ylabel('Percent Returns', fontsize = 12, labelpad = 10)\n",
    "ax.set_xlabel('People', fontsize = 15, labelpad = 20)\n",
    "# setting up the graph\n",
    "#ax.set_ylim([.05,.3])\n",
    "ax.set_xticks(x)\n",
    "ax.set_xticklabels(labels, fontsize = 12, rotation=45)\n",
    "ax.legend(loc = (0.33, .85), fontsize = 13, facecolor = 'white')\n",
    "ax.set_facecolor('white')\n",
    "fig.tight_layout()\n",
    "plt.show();"
   ]
  },
  {
   "cell_type": "code",
   "execution_count": 33,
   "metadata": {
    "ExecuteTime": {
     "end_time": "2021-06-11T16:01:27.714745Z",
     "start_time": "2021-06-11T16:01:27.704444Z"
    }
   },
   "outputs": [
    {
     "data": {
      "text/html": [
       "<div>\n",
       "<style scoped>\n",
       "    .dataframe tbody tr th:only-of-type {\n",
       "        vertical-align: middle;\n",
       "    }\n",
       "\n",
       "    .dataframe tbody tr th {\n",
       "        vertical-align: top;\n",
       "    }\n",
       "\n",
       "    .dataframe thead th {\n",
       "        text-align: right;\n",
       "    }\n",
       "</style>\n",
       "<table border=\"1\" class=\"dataframe\">\n",
       "  <thead>\n",
       "    <tr style=\"text-align: right;\">\n",
       "      <th></th>\n",
       "      <th>day_180_avg_stock_perc_diff</th>\n",
       "      <th>day_180_avg_sp_perc_diff</th>\n",
       "      <th>stock_transactions</th>\n",
       "      <th>performance_vs_avg_180days</th>\n",
       "    </tr>\n",
       "    <tr>\n",
       "      <th>representative</th>\n",
       "      <th></th>\n",
       "      <th></th>\n",
       "      <th></th>\n",
       "      <th></th>\n",
       "    </tr>\n",
       "  </thead>\n",
       "  <tbody>\n",
       "    <tr>\n",
       "      <th>Austin Scott</th>\n",
       "      <td>1.404000</td>\n",
       "      <td>0.191000</td>\n",
       "      <td>13</td>\n",
       "      <td>1.213000</td>\n",
       "    </tr>\n",
       "    <tr>\n",
       "      <th>Kim Schrier</th>\n",
       "      <td>1.048250</td>\n",
       "      <td>0.159250</td>\n",
       "      <td>8</td>\n",
       "      <td>0.889000</td>\n",
       "    </tr>\n",
       "    <tr>\n",
       "      <th>Brian Mast</th>\n",
       "      <td>0.928684</td>\n",
       "      <td>0.112526</td>\n",
       "      <td>19</td>\n",
       "      <td>0.816158</td>\n",
       "    </tr>\n",
       "    <tr>\n",
       "      <th>Michael Garcia</th>\n",
       "      <td>0.669136</td>\n",
       "      <td>0.173091</td>\n",
       "      <td>22</td>\n",
       "      <td>0.496045</td>\n",
       "    </tr>\n",
       "    <tr>\n",
       "      <th>Frank Pallone</th>\n",
       "      <td>0.653200</td>\n",
       "      <td>0.186000</td>\n",
       "      <td>5</td>\n",
       "      <td>0.467200</td>\n",
       "    </tr>\n",
       "    <tr>\n",
       "      <th>Alan S. Lowenthal</th>\n",
       "      <td>0.597287</td>\n",
       "      <td>0.183083</td>\n",
       "      <td>303</td>\n",
       "      <td>0.414205</td>\n",
       "    </tr>\n",
       "    <tr>\n",
       "      <th>Doug Lamborn</th>\n",
       "      <td>0.599214</td>\n",
       "      <td>0.193214</td>\n",
       "      <td>14</td>\n",
       "      <td>0.406000</td>\n",
       "    </tr>\n",
       "    <tr>\n",
       "      <th>Harley E. Rouda</th>\n",
       "      <td>0.509167</td>\n",
       "      <td>0.105000</td>\n",
       "      <td>6</td>\n",
       "      <td>0.404167</td>\n",
       "    </tr>\n",
       "    <tr>\n",
       "      <th>Lloyd K. Smucker</th>\n",
       "      <td>0.210600</td>\n",
       "      <td>-0.000600</td>\n",
       "      <td>10</td>\n",
       "      <td>0.211200</td>\n",
       "    </tr>\n",
       "    <tr>\n",
       "      <th>Roger W. Marshall</th>\n",
       "      <td>0.297958</td>\n",
       "      <td>0.093958</td>\n",
       "      <td>24</td>\n",
       "      <td>0.204000</td>\n",
       "    </tr>\n",
       "  </tbody>\n",
       "</table>\n",
       "</div>"
      ],
      "text/plain": [
       "                   day_180_avg_stock_perc_diff  day_180_avg_sp_perc_diff  \\\n",
       "representative                                                             \n",
       "Austin Scott                          1.404000                  0.191000   \n",
       "Kim Schrier                           1.048250                  0.159250   \n",
       "Brian Mast                            0.928684                  0.112526   \n",
       "Michael Garcia                        0.669136                  0.173091   \n",
       "Frank Pallone                         0.653200                  0.186000   \n",
       "Alan S. Lowenthal                     0.597287                  0.183083   \n",
       "Doug Lamborn                          0.599214                  0.193214   \n",
       "Harley E. Rouda                       0.509167                  0.105000   \n",
       "Lloyd K. Smucker                      0.210600                 -0.000600   \n",
       "Roger W. Marshall                     0.297958                  0.093958   \n",
       "\n",
       "                   stock_transactions  performance_vs_avg_180days  \n",
       "representative                                                     \n",
       "Austin Scott                       13                    1.213000  \n",
       "Kim Schrier                         8                    0.889000  \n",
       "Brian Mast                         19                    0.816158  \n",
       "Michael Garcia                     22                    0.496045  \n",
       "Frank Pallone                       5                    0.467200  \n",
       "Alan S. Lowenthal                 303                    0.414205  \n",
       "Doug Lamborn                       14                    0.406000  \n",
       "Harley E. Rouda                     6                    0.404167  \n",
       "Lloyd K. Smucker                   10                    0.211200  \n",
       "Roger W. Marshall                  24                    0.204000  "
      ]
     },
     "execution_count": 33,
     "metadata": {},
     "output_type": "execute_result"
    }
   ],
   "source": [
    "# view of top performers\n",
    "stock_perform_sorted[:10]"
   ]
  },
  {
   "cell_type": "code",
   "execution_count": 34,
   "metadata": {
    "ExecuteTime": {
     "end_time": "2021-06-11T17:03:11.022732Z",
     "start_time": "2021-06-11T17:03:11.012592Z"
    }
   },
   "outputs": [
    {
     "data": {
      "text/html": [
       "<div>\n",
       "<style scoped>\n",
       "    .dataframe tbody tr th:only-of-type {\n",
       "        vertical-align: middle;\n",
       "    }\n",
       "\n",
       "    .dataframe tbody tr th {\n",
       "        vertical-align: top;\n",
       "    }\n",
       "\n",
       "    .dataframe thead th {\n",
       "        text-align: right;\n",
       "    }\n",
       "</style>\n",
       "<table border=\"1\" class=\"dataframe\">\n",
       "  <thead>\n",
       "    <tr style=\"text-align: right;\">\n",
       "      <th></th>\n",
       "      <th>day_180_avg_stock_perc_diff</th>\n",
       "      <th>day_180_avg_sp_perc_diff</th>\n",
       "      <th>stock_transactions</th>\n",
       "      <th>performance_vs_avg_180days</th>\n",
       "    </tr>\n",
       "    <tr>\n",
       "      <th>representative</th>\n",
       "      <th></th>\n",
       "      <th></th>\n",
       "      <th></th>\n",
       "      <th></th>\n",
       "    </tr>\n",
       "  </thead>\n",
       "  <tbody>\n",
       "    <tr>\n",
       "      <th>Ed Perlmutter</th>\n",
       "      <td>0.163600</td>\n",
       "      <td>0.179667</td>\n",
       "      <td>30</td>\n",
       "      <td>-0.016067</td>\n",
       "    </tr>\n",
       "    <tr>\n",
       "      <th>John B. Larson</th>\n",
       "      <td>-0.064300</td>\n",
       "      <td>-0.047000</td>\n",
       "      <td>30</td>\n",
       "      <td>-0.017300</td>\n",
       "    </tr>\n",
       "    <tr>\n",
       "      <th>David A Perdue , Jr</th>\n",
       "      <td>0.059665</td>\n",
       "      <td>0.077411</td>\n",
       "      <td>1627</td>\n",
       "      <td>-0.017746</td>\n",
       "    </tr>\n",
       "    <tr>\n",
       "      <th>Joe Courtney</th>\n",
       "      <td>0.062106</td>\n",
       "      <td>0.081128</td>\n",
       "      <td>94</td>\n",
       "      <td>-0.019021</td>\n",
       "    </tr>\n",
       "    <tr>\n",
       "      <th>Susan W. Brooks</th>\n",
       "      <td>0.231333</td>\n",
       "      <td>0.257000</td>\n",
       "      <td>12</td>\n",
       "      <td>-0.025667</td>\n",
       "    </tr>\n",
       "    <tr>\n",
       "      <th>John Hoeven</th>\n",
       "      <td>0.020222</td>\n",
       "      <td>0.048392</td>\n",
       "      <td>153</td>\n",
       "      <td>-0.028170</td>\n",
       "    </tr>\n",
       "    <tr>\n",
       "      <th>Kelly Loeffler</th>\n",
       "      <td>0.172744</td>\n",
       "      <td>0.201015</td>\n",
       "      <td>262</td>\n",
       "      <td>-0.028271</td>\n",
       "    </tr>\n",
       "    <tr>\n",
       "      <th>Tina Smith</th>\n",
       "      <td>0.007077</td>\n",
       "      <td>0.038000</td>\n",
       "      <td>13</td>\n",
       "      <td>-0.030923</td>\n",
       "    </tr>\n",
       "    <tr>\n",
       "      <th>Angus S King, Jr.</th>\n",
       "      <td>0.031037</td>\n",
       "      <td>0.066593</td>\n",
       "      <td>27</td>\n",
       "      <td>-0.035556</td>\n",
       "    </tr>\n",
       "    <tr>\n",
       "      <th>Dwight Evans</th>\n",
       "      <td>0.151241</td>\n",
       "      <td>0.187379</td>\n",
       "      <td>29</td>\n",
       "      <td>-0.036138</td>\n",
       "    </tr>\n",
       "  </tbody>\n",
       "</table>\n",
       "</div>"
      ],
      "text/plain": [
       "                     day_180_avg_stock_perc_diff  day_180_avg_sp_perc_diff  \\\n",
       "representative                                                               \n",
       "Ed Perlmutter                           0.163600                  0.179667   \n",
       "John B. Larson                         -0.064300                 -0.047000   \n",
       "David A Perdue , Jr                     0.059665                  0.077411   \n",
       "Joe Courtney                            0.062106                  0.081128   \n",
       "Susan W. Brooks                         0.231333                  0.257000   \n",
       "John Hoeven                             0.020222                  0.048392   \n",
       "Kelly Loeffler                          0.172744                  0.201015   \n",
       "Tina Smith                              0.007077                  0.038000   \n",
       "Angus S King, Jr.                       0.031037                  0.066593   \n",
       "Dwight Evans                            0.151241                  0.187379   \n",
       "\n",
       "                     stock_transactions  performance_vs_avg_180days  \n",
       "representative                                                       \n",
       "Ed Perlmutter                        30                   -0.016067  \n",
       "John B. Larson                       30                   -0.017300  \n",
       "David A Perdue , Jr                1627                   -0.017746  \n",
       "Joe Courtney                         94                   -0.019021  \n",
       "Susan W. Brooks                      12                   -0.025667  \n",
       "John Hoeven                         153                   -0.028170  \n",
       "Kelly Loeffler                      262                   -0.028271  \n",
       "Tina Smith                           13                   -0.030923  \n",
       "Angus S King, Jr.                    27                   -0.035556  \n",
       "Dwight Evans                         29                   -0.036138  "
      ]
     },
     "execution_count": 34,
     "metadata": {},
     "output_type": "execute_result"
    }
   ],
   "source": [
    "values = stock_perform_sorted[64:74]\n",
    "values"
   ]
  },
  {
   "cell_type": "markdown",
   "metadata": {},
   "source": [
    "The middle 10 congressmen only have a sleight improvment over the market performance."
   ]
  },
  {
   "cell_type": "code",
   "execution_count": null,
   "metadata": {},
   "outputs": [],
   "source": []
  },
  {
   "cell_type": "code",
   "execution_count": 35,
   "metadata": {
    "ExecuteTime": {
     "end_time": "2021-06-11T15:58:20.777196Z",
     "start_time": "2021-06-11T15:58:20.772431Z"
    }
   },
   "outputs": [
    {
     "data": {
      "text/plain": [
       "4.886053008697781"
      ]
     },
     "execution_count": 35,
     "metadata": {},
     "output_type": "execute_result"
    }
   ],
   "source": [
    "# Congress' Average performance over the market\n",
    "stock_perform_sorted['performance_vs_avg_180days'].sum()"
   ]
  },
  {
   "cell_type": "code",
   "execution_count": 36,
   "metadata": {
    "ExecuteTime": {
     "end_time": "2021-06-11T15:58:21.698758Z",
     "start_time": "2021-06-11T15:58:21.693142Z"
    }
   },
   "outputs": [
    {
     "data": {
      "text/plain": [
       "<bound method Series.sum of representative\n",
       "Austin Scott                  0.191000\n",
       "Kim Schrier                   0.159250\n",
       "Brian Mast                    0.112526\n",
       "Michael Garcia                0.173091\n",
       "Frank Pallone                 0.186000\n",
       "                                ...   \n",
       "Virginia Foxx                 0.159733\n",
       "James E. Banks                0.134600\n",
       "Nicholas Van Taylor           0.142421\n",
       "Neal Patrick MD, Facs Dunn    0.027125\n",
       "Billy Long                    0.400000\n",
       "Name: day_180_avg_sp_perc_diff, Length: 99, dtype: float64>"
      ]
     },
     "execution_count": 36,
     "metadata": {},
     "output_type": "execute_result"
    }
   ],
   "source": [
    "# \n",
    "stock_perform_sorted['day_180_avg_sp_perc_diff'].sum"
   ]
  },
  {
   "cell_type": "code",
   "execution_count": 37,
   "metadata": {
    "ExecuteTime": {
     "end_time": "2021-06-11T17:19:13.569235Z",
     "start_time": "2021-06-11T17:19:13.562087Z"
    }
   },
   "outputs": [],
   "source": [
    "# convert date to datetime\n",
    "df['transaction_date'] = df['transaction_date'].astype('datetime64')"
   ]
  },
  {
   "cell_type": "code",
   "execution_count": 38,
   "metadata": {
    "ExecuteTime": {
     "end_time": "2021-06-11T17:19:14.630505Z",
     "start_time": "2021-06-11T17:19:14.331875Z"
    }
   },
   "outputs": [
    {
     "data": {
      "image/png": "[encoded data removed]",
      "text/plain": [
       "<Figure size 576x576 with 1 Axes>"
      ]
     },
     "metadata": {
      "needs_background": "light"
     },
     "output_type": "display_data"
    }
   ],
   "source": [
    "plt.figure(figsize = (8,8))\n",
    "plt.plot(df[(df['type'] == 'purchase') & (df['transaction_date'] > pd.to_datetime('2020-02-01'))& (df['transaction_date'] < pd.to_datetime('2020-05-01'))].groupby('transaction_date').count().index,\n",
    "         df[(df['type'] == 'purchase') & (df['transaction_date'] > pd.to_datetime('2020-02-01'))& (df['transaction_date'] < pd.to_datetime('2020-05-01'))].groupby('transaction_date').count())\n",
    "plt.title('Stock Purchases at the onset of Covid-19')\n",
    "plt.ylabel('Number of Purchases')\n",
    "plt.xlabel('Date');"
   ]
  },
  {
   "cell_type": "code",
   "execution_count": 39,
   "metadata": {
    "ExecuteTime": {
     "end_time": "2021-06-11T17:19:25.118732Z",
     "start_time": "2021-06-11T17:19:24.752284Z"
    }
   },
   "outputs": [
    {
     "data": {
      "image/png": "[encoded data removed]",
      "text/plain": [
       "<Figure size 576x576 with 1 Axes>"
      ]
     },
     "metadata": {
      "needs_background": "light"
     },
     "output_type": "display_data"
    }
   ],
   "source": [
    "plt.figure(figsize = (8,8))\n",
    "plt.plot(df[(df['type'] != 'purchase') & (df['transaction_date'] > pd.to_datetime('2020-02-01'))& (df['transaction_date'] < pd.to_datetime('2020-05-01'))].groupby('transaction_date').count().index,\n",
    "         df[(df['type'] != 'purchase') & (df['transaction_date'] > pd.to_datetime('2020-02-01'))& (df['transaction_date'] < pd.to_datetime('2020-05-01'))].groupby('transaction_date').count() )\n",
    "plt.title('Stock sales at the onset of Covid-19')\n",
    "plt.ylabel('Number of Sales')\n",
    "plt.xlabel('Date');"
   ]
  },
  {
   "cell_type": "code",
   "execution_count": 40,
   "metadata": {
    "ExecuteTime": {
     "end_time": "2021-06-11T17:33:29.008848Z",
     "start_time": "2021-06-11T17:33:29.003274Z"
    }
   },
   "outputs": [
    {
     "data": {
      "text/plain": [
       "representative\n",
       "David A Perdue , Jr      1627\n",
       "Gilbert Cisneros          516\n",
       "Sheldon Whitehouse        510\n",
       "Greg Gianforte            430\n",
       "Josh Gottheimer           398\n",
       "Donna Shalala             370\n",
       "Pat Roberts               352\n",
       "Dean Phillips             324\n",
       "Alan S. Lowenthal         303\n",
       "Donald Sternoff Beyer     293\n",
       "Susie Lee                 275\n",
       "Mark Green                271\n",
       "Kelly Loeffler            262\n",
       "Susan M Collins           259\n",
       "Shelley M Capito          258\n",
       "Thomas R Carper           247\n",
       "James M Inhofe            179\n",
       "Ron L Wyden               177\n",
       "John Hoeven               153\n",
       "John F Reed               153\n",
       "Name: stock_transactions, dtype: int64"
      ]
     },
     "execution_count": 40,
     "metadata": {},
     "output_type": "execute_result"
    }
   ],
   "source": [
    "stock_perform['stock_transactions'].sort_values(ascending=False)[:20]"
   ]
  },
  {
   "cell_type": "code",
   "execution_count": 41,
   "metadata": {
    "ExecuteTime": {
     "end_time": "2021-06-11T17:43:17.260677Z",
     "start_time": "2021-06-11T17:43:16.957768Z"
    }
   },
   "outputs": [
    {
     "data": {
      "image/png": "[encoded data removed]",
      "text/plain": [
       "<Figure size 1152x576 with 1 Axes>"
      ]
     },
     "metadata": {
      "needs_background": "light"
     },
     "output_type": "display_data"
    }
   ],
   "source": [
    "purchase = df.loc[df['type'] == 'purchase']\n",
    "purchase_stocks = purchase.describe().loc['mean', ['day_30_stock_perc_diff', 'day_60_stock_perc_diff',\n",
    "                                 'day_90_stock_perc_diff', 'day_180_stock_perc_diff']]\n",
    "purchase_sp = purchase.describe().loc['mean', ['sp_30_sp_perc_diff', 'sp_60_sp_perc_diff',\n",
    "                                 'sp_90_sp_perc_diff', 'sp_180_sp_perc_diff']]\n",
    "plt.figure(figsize = (16, 8))\n",
    "plt.title('Average Returns of Congress vs the S&P 500', fontsize = 14)\n",
    "plt.bar([.8, 1.8, 2.8, 3.8], purchase_stocks, width = .4, label = 'Congress')\n",
    "plt.bar([1.2, 2.2, 3.2, 4.2], purchase_sp, width = .4, label = 'S&P 500')\n",
    "plt.xticks(ticks = [1, 2,3,4], labels = ['30_days', '60_days', '90_days', '180_days'])\n",
    "plt.ylabel('Average Percent Return', fontsize = 12)\n",
    "plt.xlabel('Time After Purchase', fontsize = 12)\n",
    "plt.legend();"
   ]
  },
  {
   "cell_type": "code",
   "execution_count": 42,
   "metadata": {
    "ExecuteTime": {
     "end_time": "2021-06-11T17:40:05.666253Z",
     "start_time": "2021-06-11T17:40:05.257692Z"
    }
   },
   "outputs": [
    {
     "data": {
      "image/png": "[encoded data removed]",
      "text/plain": [
       "<Figure size 576x576 with 1 Axes>"
      ]
     },
     "metadata": {
      "needs_background": "light"
     },
     "output_type": "display_data"
    }
   ],
   "source": [
    "plt.figure(figsize = (8,8))\n",
    "values = stock_perform['stock_transactions'].sort_values(ascending=False)[:20]\n",
    "\n",
    "#getting names of middle 10 reps\n",
    "barchart_names = values.index[:20]\n",
    "\n",
    "# setting up graph\n",
    "height = values\n",
    "labels = [col for col in barchart_names]\n",
    "y_pos = np.arange(len(labels))\n",
    "\n",
    "#create horizontal bars\n",
    "plt.barh(y_pos, height)\n",
    "\n",
    "# create names on teh x_axis\n",
    "plt.yticks(y_pos, labels)\n",
    "plt.title('Most Trades, 2013-2020')\n",
    "plt.show()"
   ]
  },
  {
   "cell_type": "markdown",
   "metadata": {},
   "source": [
    "David Perdue is making about 213 transactions a year, which is ~3-4x higher than the next highest Congressmen.\n",
    "\n",
    "data range:  2013-03-15 through 2020-11-24\n"
   ]
  },
  {
   "cell_type": "code",
   "execution_count": null,
   "metadata": {},
   "outputs": [],
   "source": []
  }
 ],
 "metadata": {
  "kernelspec": {
   "display_name": "Python 3",
   "language": "python",
   "name": "python3"
  },
  "language_info": {
   "codemirror_mode": {
    "name": "ipython",
    "version": 3
   },
   "file_extension": ".py",
   "mimetype": "text/x-python",
   "name": "python",
   "nbconvert_exporter": "python",
   "pygments_lexer": "ipython3",
   "version": "3.8.5"
  }
 },
 "nbformat": 4,
 "nbformat_minor": 4
}
