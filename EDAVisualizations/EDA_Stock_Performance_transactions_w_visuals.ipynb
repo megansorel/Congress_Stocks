{
 "cells": [
  {
   "cell_type": "code",
   "execution_count": 1,
   "metadata": {
    "ExecuteTime": {
     "end_time": "2021-06-11T19:27:01.960109Z",
     "start_time": "2021-06-11T19:27:01.957230Z"
    }
   },
   "outputs": [],
   "source": [
    "import pandas as pd\n",
    "import matplotlib.pyplot as plt\n",
    "import seaborn as sns\n",
    "import numpy as np"
   ]
  },
  {
   "cell_type": "code",
   "execution_count": 2,
   "metadata": {
    "ExecuteTime": {
     "end_time": "2021-06-11T19:27:02.054175Z",
     "start_time": "2021-06-11T19:27:01.963988Z"
    }
   },
   "outputs": [],
   "source": [
    "df = pd.read_csv('../data/stock_percentage_difference.csv')"
   ]
  },
  {
   "cell_type": "code",
   "execution_count": 4,
   "metadata": {
    "ExecuteTime": {
     "end_time": "2021-06-11T19:27:02.070309Z",
     "start_time": "2021-06-11T19:27:02.064376Z"
    }
   },
   "outputs": [],
   "source": [
    "# Filter DF to stock purchases\n",
    "df_purchases = df[df['type'] == 'purchase']"
   ]
  },
  {
   "cell_type": "code",
   "execution_count": 5,
   "metadata": {
    "ExecuteTime": {
     "end_time": "2021-06-11T19:27:02.077041Z",
     "start_time": "2021-06-11T19:27:02.073049Z"
    }
   },
   "outputs": [
    {
     "data": {
      "text/plain": [
       "Index(['level_0', 'transaction_date', 'ticker', 'asset_description', 'type',\n",
       "       'amount', 'representative', 'timestamp', 'state', 'party_x',\n",
       "       'total_senate_years', 'total_house_years', 'total_years',\n",
       "       'total_raised', 'total_from_small_donors', 'percent_from_small_donors*',\n",
       "       'total_money_raised', 'start', 'day_30', 'day_30_stock_perc_diff',\n",
       "       'day_60', 'day_60_stock_perc_diff', 'day_90', 'day_90_stock_perc_diff',\n",
       "       'day_180', 'day_180_stock_perc_diff', 'sp_start', 'sp_30',\n",
       "       'sp_30_sp_perc_diff', 'sp_60', 'sp_60_sp_perc_diff', 'sp_90',\n",
       "       'sp_90_sp_perc_diff', 'sp_180', 'sp_180_sp_perc_diff'],\n",
       "      dtype='object')"
      ]
     },
     "execution_count": 5,
     "metadata": {},
     "output_type": "execute_result"
    }
   ],
   "source": [
    "df_purchases.columns"
   ]
  },
  {
   "cell_type": "code",
   "execution_count": 6,
   "metadata": {
    "ExecuteTime": {
     "end_time": "2021-06-11T19:27:02.083408Z",
     "start_time": "2021-06-11T19:27:02.078916Z"
    }
   },
   "outputs": [
    {
     "data": {
      "text/plain": [
       "95"
      ]
     },
     "execution_count": 6,
     "metadata": {},
     "output_type": "execute_result"
    }
   ],
   "source": [
    "df_purchases['representative'].nunique()"
   ]
  },
  {
   "cell_type": "code",
   "execution_count": 7,
   "metadata": {
    "ExecuteTime": {
     "end_time": "2021-06-11T19:27:02.089722Z",
     "start_time": "2021-06-11T19:27:02.085336Z"
    }
   },
   "outputs": [
    {
     "data": {
      "text/plain": [
       "'2013-03-15'"
      ]
     },
     "execution_count": 7,
     "metadata": {},
     "output_type": "execute_result"
    }
   ],
   "source": [
    "# start of data\n",
    "df_purchases['transaction_date'].min()"
   ]
  },
  {
   "cell_type": "code",
   "execution_count": 8,
   "metadata": {
    "ExecuteTime": {
     "end_time": "2021-06-11T19:27:02.095864Z",
     "start_time": "2021-06-11T19:27:02.091511Z"
    }
   },
   "outputs": [
    {
     "data": {
      "text/plain": [
       "'2020-11-24'"
      ]
     },
     "execution_count": 8,
     "metadata": {},
     "output_type": "execute_result"
    }
   ],
   "source": [
    "# end of data\n",
    "df_purchases['transaction_date'].max()"
   ]
  },
  {
   "cell_type": "code",
   "execution_count": 9,
   "metadata": {
    "ExecuteTime": {
     "end_time": "2021-06-11T19:27:02.167113Z",
     "start_time": "2021-06-11T19:27:02.097769Z"
    }
   },
   "outputs": [
    {
     "data": {
      "text/html": [
       "<div>\n",
       "<style scoped>\n",
       "    .dataframe tbody tr th:only-of-type {\n",
       "        vertical-align: middle;\n",
       "    }\n",
       "\n",
       "    .dataframe tbody tr th {\n",
       "        vertical-align: top;\n",
       "    }\n",
       "\n",
       "    .dataframe thead th {\n",
       "        text-align: right;\n",
       "    }\n",
       "</style>\n",
       "<table border=\"1\" class=\"dataframe\">\n",
       "  <thead>\n",
       "    <tr style=\"text-align: right;\">\n",
       "      <th></th>\n",
       "      <th>level_0</th>\n",
       "      <th>transaction_date</th>\n",
       "      <th>ticker</th>\n",
       "      <th>asset_description</th>\n",
       "      <th>type</th>\n",
       "      <th>amount</th>\n",
       "      <th>representative</th>\n",
       "      <th>timestamp</th>\n",
       "      <th>state</th>\n",
       "      <th>party_x</th>\n",
       "      <th>...</th>\n",
       "      <th>day_180_stock_perc_diff</th>\n",
       "      <th>sp_start</th>\n",
       "      <th>sp_30</th>\n",
       "      <th>sp_30_sp_perc_diff</th>\n",
       "      <th>sp_60</th>\n",
       "      <th>sp_60_sp_perc_diff</th>\n",
       "      <th>sp_90</th>\n",
       "      <th>sp_90_sp_perc_diff</th>\n",
       "      <th>sp_180</th>\n",
       "      <th>sp_180_sp_perc_diff</th>\n",
       "    </tr>\n",
       "  </thead>\n",
       "  <tbody>\n",
       "    <tr>\n",
       "      <th>1</th>\n",
       "      <td>1</td>\n",
       "      <td>2020-03-24</td>\n",
       "      <td>CNC</td>\n",
       "      <td>Centene Corporation</td>\n",
       "      <td>purchase</td>\n",
       "      <td>$1,001 - $15,000</td>\n",
       "      <td>Susie Lee</td>\n",
       "      <td>1585022400</td>\n",
       "      <td>Nevada</td>\n",
       "      <td>Democratic</td>\n",
       "      <td>...</td>\n",
       "      <td>0.254</td>\n",
       "      <td>2447.330078</td>\n",
       "      <td>2797.800049</td>\n",
       "      <td>0.143</td>\n",
       "      <td>2955.449951</td>\n",
       "      <td>0.208</td>\n",
       "      <td>3083.76001</td>\n",
       "      <td>0.26</td>\n",
       "      <td>3319.469971</td>\n",
       "      <td>0.356</td>\n",
       "    </tr>\n",
       "  </tbody>\n",
       "</table>\n",
       "<p>1 rows × 35 columns</p>\n",
       "</div>"
      ],
      "text/plain": [
       "   level_0 transaction_date ticker    asset_description      type  \\\n",
       "1        1       2020-03-24    CNC  Centene Corporation  purchase   \n",
       "\n",
       "             amount representative   timestamp   state     party_x  ...  \\\n",
       "1  $1,001 - $15,000      Susie Lee  1585022400  Nevada  Democratic  ...   \n",
       "\n",
       "   day_180_stock_perc_diff     sp_start        sp_30 sp_30_sp_perc_diff  \\\n",
       "1                    0.254  2447.330078  2797.800049              0.143   \n",
       "\n",
       "         sp_60 sp_60_sp_perc_diff       sp_90  sp_90_sp_perc_diff  \\\n",
       "1  2955.449951              0.208  3083.76001                0.26   \n",
       "\n",
       "        sp_180  sp_180_sp_perc_diff  \n",
       "1  3319.469971                0.356  \n",
       "\n",
       "[1 rows x 35 columns]"
      ]
     },
     "execution_count": 9,
     "metadata": {},
     "output_type": "execute_result"
    }
   ],
   "source": [
    "df_purchases.head(1)"
   ]
  },
  {
   "cell_type": "code",
   "execution_count": 10,
   "metadata": {
    "ExecuteTime": {
     "end_time": "2021-06-11T19:27:02.182064Z",
     "start_time": "2021-06-11T19:27:02.173379Z"
    }
   },
   "outputs": [],
   "source": [
    "# how many transactions did \n",
    "df_transaction_num = df_purchases.groupby(['representative'])[['ticker']].count()"
   ]
  },
  {
   "cell_type": "code",
   "execution_count": 11,
   "metadata": {
    "ExecuteTime": {
     "end_time": "2021-06-11T19:27:02.195549Z",
     "start_time": "2021-06-11T19:27:02.187381Z"
    }
   },
   "outputs": [],
   "source": [
    "df_transaction_num.columns = ['transaction_number']"
   ]
  },
  {
   "cell_type": "code",
   "execution_count": 12,
   "metadata": {
    "ExecuteTime": {
     "end_time": "2021-06-11T19:27:02.209525Z",
     "start_time": "2021-06-11T19:27:02.198554Z"
    }
   },
   "outputs": [
    {
     "data": {
      "text/html": [
       "<div>\n",
       "<style scoped>\n",
       "    .dataframe tbody tr th:only-of-type {\n",
       "        vertical-align: middle;\n",
       "    }\n",
       "\n",
       "    .dataframe tbody tr th {\n",
       "        vertical-align: top;\n",
       "    }\n",
       "\n",
       "    .dataframe thead th {\n",
       "        text-align: right;\n",
       "    }\n",
       "</style>\n",
       "<table border=\"1\" class=\"dataframe\">\n",
       "  <thead>\n",
       "    <tr style=\"text-align: right;\">\n",
       "      <th></th>\n",
       "      <th>transaction_number</th>\n",
       "    </tr>\n",
       "    <tr>\n",
       "      <th>representative</th>\n",
       "      <th></th>\n",
       "    </tr>\n",
       "  </thead>\n",
       "  <tbody>\n",
       "    <tr>\n",
       "      <th>A. Mitchell Mcconnell, Jr.</th>\n",
       "      <td>11</td>\n",
       "    </tr>\n",
       "    <tr>\n",
       "      <th>Adam Kinzinger</th>\n",
       "      <td>13</td>\n",
       "    </tr>\n",
       "    <tr>\n",
       "      <th>Alan S. Lowenthal</th>\n",
       "      <td>108</td>\n",
       "    </tr>\n",
       "    <tr>\n",
       "      <th>Angus S King, Jr.</th>\n",
       "      <td>5</td>\n",
       "    </tr>\n",
       "    <tr>\n",
       "      <th>Anthony E. Gonzalez</th>\n",
       "      <td>1</td>\n",
       "    </tr>\n",
       "    <tr>\n",
       "      <th>...</th>\n",
       "      <td>...</td>\n",
       "    </tr>\n",
       "    <tr>\n",
       "      <th>Virginia Foxx</th>\n",
       "      <td>28</td>\n",
       "    </tr>\n",
       "    <tr>\n",
       "      <th>W. Greg Steube</th>\n",
       "      <td>1</td>\n",
       "    </tr>\n",
       "    <tr>\n",
       "      <th>William Cassidy</th>\n",
       "      <td>54</td>\n",
       "    </tr>\n",
       "    <tr>\n",
       "      <th>William R. Timmons</th>\n",
       "      <td>4</td>\n",
       "    </tr>\n",
       "    <tr>\n",
       "      <th>Zoe Lofgren</th>\n",
       "      <td>6</td>\n",
       "    </tr>\n",
       "  </tbody>\n",
       "</table>\n",
       "<p>95 rows × 1 columns</p>\n",
       "</div>"
      ],
      "text/plain": [
       "                            transaction_number\n",
       "representative                                \n",
       "A. Mitchell Mcconnell, Jr.                  11\n",
       "Adam Kinzinger                              13\n",
       "Alan S. Lowenthal                          108\n",
       "Angus S King, Jr.                            5\n",
       "Anthony E. Gonzalez                          1\n",
       "...                                        ...\n",
       "Virginia Foxx                               28\n",
       "W. Greg Steube                               1\n",
       "William Cassidy                             54\n",
       "William R. Timmons                           4\n",
       "Zoe Lofgren                                  6\n",
       "\n",
       "[95 rows x 1 columns]"
      ]
     },
     "execution_count": 12,
     "metadata": {},
     "output_type": "execute_result"
    }
   ],
   "source": [
    "df_transaction_num"
   ]
  },
  {
   "cell_type": "code",
   "execution_count": 13,
   "metadata": {
    "ExecuteTime": {
     "end_time": "2021-06-11T19:27:02.218325Z",
     "start_time": "2021-06-11T19:27:02.211885Z"
    }
   },
   "outputs": [],
   "source": [
    "con_stocks_avg_180_days = df_purchases.groupby(['representative'])[['day_180_stock_perc_diff']].mean()\n"
   ]
  },
  {
   "cell_type": "code",
   "execution_count": 14,
   "metadata": {
    "ExecuteTime": {
     "end_time": "2021-06-11T19:27:02.228645Z",
     "start_time": "2021-06-11T19:27:02.220365Z"
    }
   },
   "outputs": [],
   "source": [
    "# get the avg stock performance by representative after 180 days\n",
    "con_stocks_avg_180_days = df_purchases.groupby(['representative'])[['day_180_stock_perc_diff']].mean()\n",
    "\n",
    "# get the mean S&P 500 performance after 180 days from when a congressman purchased stock\n",
    "sp_avg_180_days = df.groupby(['representative'])[['sp_180_sp_perc_diff']].mean()"
   ]
  },
  {
   "cell_type": "code",
   "execution_count": 15,
   "metadata": {
    "ExecuteTime": {
     "end_time": "2021-06-11T19:27:02.239818Z",
     "start_time": "2021-06-11T19:27:02.231097Z"
    }
   },
   "outputs": [
    {
     "data": {
      "text/html": [
       "<div>\n",
       "<style scoped>\n",
       "    .dataframe tbody tr th:only-of-type {\n",
       "        vertical-align: middle;\n",
       "    }\n",
       "\n",
       "    .dataframe tbody tr th {\n",
       "        vertical-align: top;\n",
       "    }\n",
       "\n",
       "    .dataframe thead th {\n",
       "        text-align: right;\n",
       "    }\n",
       "</style>\n",
       "<table border=\"1\" class=\"dataframe\">\n",
       "  <thead>\n",
       "    <tr style=\"text-align: right;\">\n",
       "      <th></th>\n",
       "      <th>day_180_stock_perc_diff</th>\n",
       "    </tr>\n",
       "    <tr>\n",
       "      <th>representative</th>\n",
       "      <th></th>\n",
       "    </tr>\n",
       "  </thead>\n",
       "  <tbody>\n",
       "    <tr>\n",
       "      <th>Austin Scott</th>\n",
       "      <td>3.096250</td>\n",
       "    </tr>\n",
       "    <tr>\n",
       "      <th>Brian Mast</th>\n",
       "      <td>0.773429</td>\n",
       "    </tr>\n",
       "    <tr>\n",
       "      <th>David Trone</th>\n",
       "      <td>0.654000</td>\n",
       "    </tr>\n",
       "    <tr>\n",
       "      <th>Doug Lamborn</th>\n",
       "      <td>0.629000</td>\n",
       "    </tr>\n",
       "    <tr>\n",
       "      <th>Michael Garcia</th>\n",
       "      <td>0.520333</td>\n",
       "    </tr>\n",
       "    <tr>\n",
       "      <th>...</th>\n",
       "      <td>...</td>\n",
       "    </tr>\n",
       "    <tr>\n",
       "      <th>Tom Rice</th>\n",
       "      <td>-0.120500</td>\n",
       "    </tr>\n",
       "    <tr>\n",
       "      <th>James E. Banks</th>\n",
       "      <td>-0.155077</td>\n",
       "    </tr>\n",
       "    <tr>\n",
       "      <th>Michael Patrick Guest</th>\n",
       "      <td>-0.227000</td>\n",
       "    </tr>\n",
       "    <tr>\n",
       "      <th>Neal Patrick MD, Facs Dunn</th>\n",
       "      <td>-0.247250</td>\n",
       "    </tr>\n",
       "    <tr>\n",
       "      <th>W. Greg Steube</th>\n",
       "      <td>-0.451000</td>\n",
       "    </tr>\n",
       "  </tbody>\n",
       "</table>\n",
       "<p>95 rows × 1 columns</p>\n",
       "</div>"
      ],
      "text/plain": [
       "                            day_180_stock_perc_diff\n",
       "representative                                     \n",
       "Austin Scott                               3.096250\n",
       "Brian Mast                                 0.773429\n",
       "David Trone                                0.654000\n",
       "Doug Lamborn                               0.629000\n",
       "Michael Garcia                             0.520333\n",
       "...                                             ...\n",
       "Tom Rice                                  -0.120500\n",
       "James E. Banks                            -0.155077\n",
       "Michael Patrick Guest                     -0.227000\n",
       "Neal Patrick MD, Facs Dunn                -0.247250\n",
       "W. Greg Steube                            -0.451000\n",
       "\n",
       "[95 rows x 1 columns]"
      ]
     },
     "execution_count": 15,
     "metadata": {},
     "output_type": "execute_result"
    }
   ],
   "source": [
    "# look at the top stock returns for congressmen and congresswomen\n",
    "con_stocks_avg_180_days.sort_values(by='day_180_stock_perc_diff',ascending=False)"
   ]
  },
  {
   "cell_type": "markdown",
   "metadata": {},
   "source": [
    "# Top Performer Analysis\n",
    "Massie sold Tesla stock only, but had a sizable return. His total invesment was less than  50k. Austin Scott bought Bloom Energy and FuelCell Energy, Ballard Power systems, Exxon, GE, Plug Power with lots of small investments. Kim Schrier sold lots of Apple stock in March 2020 worth ~1+ million dollars. Schneider only sold Trupanion worth approximately 1 $million."
   ]
  },
  {
   "cell_type": "code",
   "execution_count": 16,
   "metadata": {
    "ExecuteTime": {
     "end_time": "2021-06-11T19:27:02.245421Z",
     "start_time": "2021-06-11T19:27:02.241705Z"
    }
   },
   "outputs": [],
   "source": [
    "# merge performance of two dataframes\n",
    "con_sp_180d_avg_merge = con_stocks_avg_180_days.merge(sp_avg_180_days, left_index=True, right_index=True)"
   ]
  },
  {
   "cell_type": "code",
   "execution_count": 17,
   "metadata": {
    "ExecuteTime": {
     "end_time": "2021-06-11T19:27:02.250416Z",
     "start_time": "2021-06-11T19:27:02.247144Z"
    }
   },
   "outputs": [],
   "source": [
    "# merge transaction numbers with stock performance\n",
    "stock_perform = con_sp_180d_avg_merge.merge(df_transaction_num, left_index=True, right_index=True)"
   ]
  },
  {
   "cell_type": "code",
   "execution_count": 18,
   "metadata": {
    "ExecuteTime": {
     "end_time": "2021-06-11T19:27:02.255309Z",
     "start_time": "2021-06-11T19:27:02.252139Z"
    }
   },
   "outputs": [],
   "source": [
    "# create new column for how much their investments made above the s&p500 average\n",
    "stock_perform['performance_diff_sp500'] = stock_perform['day_180_stock_perc_diff'] - stock_perform['sp_180_sp_perc_diff']"
   ]
  },
  {
   "cell_type": "code",
   "execution_count": 19,
   "metadata": {
    "ExecuteTime": {
     "end_time": "2021-06-11T19:27:02.260711Z",
     "start_time": "2021-06-11T19:27:02.257153Z"
    }
   },
   "outputs": [
    {
     "data": {
      "text/plain": [
       "Index(['day_180_stock_perc_diff', 'sp_180_sp_perc_diff', 'transaction_number',\n",
       "       'performance_diff_sp500'],\n",
       "      dtype='object')"
      ]
     },
     "execution_count": 19,
     "metadata": {},
     "output_type": "execute_result"
    }
   ],
   "source": [
    "stock_perform.columns"
   ]
  },
  {
   "cell_type": "code",
   "execution_count": 20,
   "metadata": {
    "ExecuteTime": {
     "end_time": "2021-06-11T19:27:02.265241Z",
     "start_time": "2021-06-11T19:27:02.262489Z"
    }
   },
   "outputs": [],
   "source": [
    "stock_perform.columns = ['day_180_avg_stock_perc_diff', 'day_180_avg_sp_perc_diff', 'stock_transactions',\n",
    "       'performance_vs_avg_180days']"
   ]
  },
  {
   "cell_type": "code",
   "execution_count": 21,
   "metadata": {
    "ExecuteTime": {
     "end_time": "2021-06-11T19:27:02.282165Z",
     "start_time": "2021-06-11T19:27:02.266929Z"
    },
    "scrolled": false
   },
   "outputs": [
    {
     "data": {
      "text/html": [
       "<div>\n",
       "<style scoped>\n",
       "    .dataframe tbody tr th:only-of-type {\n",
       "        vertical-align: middle;\n",
       "    }\n",
       "\n",
       "    .dataframe tbody tr th {\n",
       "        vertical-align: top;\n",
       "    }\n",
       "\n",
       "    .dataframe thead th {\n",
       "        text-align: right;\n",
       "    }\n",
       "</style>\n",
       "<table border=\"1\" class=\"dataframe\">\n",
       "  <thead>\n",
       "    <tr style=\"text-align: right;\">\n",
       "      <th></th>\n",
       "      <th>day_180_avg_stock_perc_diff</th>\n",
       "      <th>day_180_avg_sp_perc_diff</th>\n",
       "      <th>stock_transactions</th>\n",
       "      <th>performance_vs_avg_180days</th>\n",
       "    </tr>\n",
       "    <tr>\n",
       "      <th>representative</th>\n",
       "      <th></th>\n",
       "      <th></th>\n",
       "      <th></th>\n",
       "      <th></th>\n",
       "    </tr>\n",
       "  </thead>\n",
       "  <tbody>\n",
       "    <tr>\n",
       "      <th>Austin Scott</th>\n",
       "      <td>3.096250</td>\n",
       "      <td>0.191000</td>\n",
       "      <td>4</td>\n",
       "      <td>2.905250</td>\n",
       "    </tr>\n",
       "    <tr>\n",
       "      <th>Brian Mast</th>\n",
       "      <td>0.773429</td>\n",
       "      <td>0.112526</td>\n",
       "      <td>7</td>\n",
       "      <td>0.660902</td>\n",
       "    </tr>\n",
       "    <tr>\n",
       "      <th>David Trone</th>\n",
       "      <td>0.654000</td>\n",
       "      <td>0.142333</td>\n",
       "      <td>1</td>\n",
       "      <td>0.511667</td>\n",
       "    </tr>\n",
       "    <tr>\n",
       "      <th>James French Hill</th>\n",
       "      <td>0.465000</td>\n",
       "      <td>-0.043000</td>\n",
       "      <td>1</td>\n",
       "      <td>0.508000</td>\n",
       "    </tr>\n",
       "    <tr>\n",
       "      <th>Doug Lamborn</th>\n",
       "      <td>0.629000</td>\n",
       "      <td>0.193214</td>\n",
       "      <td>6</td>\n",
       "      <td>0.435786</td>\n",
       "    </tr>\n",
       "    <tr>\n",
       "      <th>...</th>\n",
       "      <td>...</td>\n",
       "      <td>...</td>\n",
       "      <td>...</td>\n",
       "      <td>...</td>\n",
       "    </tr>\n",
       "    <tr>\n",
       "      <th>Michael Patrick Guest</th>\n",
       "      <td>-0.227000</td>\n",
       "      <td>0.016000</td>\n",
       "      <td>2</td>\n",
       "      <td>-0.243000</td>\n",
       "    </tr>\n",
       "    <tr>\n",
       "      <th>Zoe Lofgren</th>\n",
       "      <td>0.173667</td>\n",
       "      <td>0.427910</td>\n",
       "      <td>6</td>\n",
       "      <td>-0.254244</td>\n",
       "    </tr>\n",
       "    <tr>\n",
       "      <th>Neal Patrick MD, Facs Dunn</th>\n",
       "      <td>-0.247250</td>\n",
       "      <td>0.027125</td>\n",
       "      <td>4</td>\n",
       "      <td>-0.274375</td>\n",
       "    </tr>\n",
       "    <tr>\n",
       "      <th>James E. Banks</th>\n",
       "      <td>-0.155077</td>\n",
       "      <td>0.134600</td>\n",
       "      <td>13</td>\n",
       "      <td>-0.289677</td>\n",
       "    </tr>\n",
       "    <tr>\n",
       "      <th>W. Greg Steube</th>\n",
       "      <td>-0.451000</td>\n",
       "      <td>0.085000</td>\n",
       "      <td>1</td>\n",
       "      <td>-0.536000</td>\n",
       "    </tr>\n",
       "  </tbody>\n",
       "</table>\n",
       "<p>95 rows × 4 columns</p>\n",
       "</div>"
      ],
      "text/plain": [
       "                            day_180_avg_stock_perc_diff  \\\n",
       "representative                                            \n",
       "Austin Scott                                   3.096250   \n",
       "Brian Mast                                     0.773429   \n",
       "David Trone                                    0.654000   \n",
       "James French Hill                              0.465000   \n",
       "Doug Lamborn                                   0.629000   \n",
       "...                                                 ...   \n",
       "Michael Patrick Guest                         -0.227000   \n",
       "Zoe Lofgren                                    0.173667   \n",
       "Neal Patrick MD, Facs Dunn                    -0.247250   \n",
       "James E. Banks                                -0.155077   \n",
       "W. Greg Steube                                -0.451000   \n",
       "\n",
       "                            day_180_avg_sp_perc_diff  stock_transactions  \\\n",
       "representative                                                             \n",
       "Austin Scott                                0.191000                   4   \n",
       "Brian Mast                                  0.112526                   7   \n",
       "David Trone                                 0.142333                   1   \n",
       "James French Hill                          -0.043000                   1   \n",
       "Doug Lamborn                                0.193214                   6   \n",
       "...                                              ...                 ...   \n",
       "Michael Patrick Guest                       0.016000                   2   \n",
       "Zoe Lofgren                                 0.427910                   6   \n",
       "Neal Patrick MD, Facs Dunn                  0.027125                   4   \n",
       "James E. Banks                              0.134600                  13   \n",
       "W. Greg Steube                              0.085000                   1   \n",
       "\n",
       "                            performance_vs_avg_180days  \n",
       "representative                                          \n",
       "Austin Scott                                  2.905250  \n",
       "Brian Mast                                    0.660902  \n",
       "David Trone                                   0.511667  \n",
       "James French Hill                             0.508000  \n",
       "Doug Lamborn                                  0.435786  \n",
       "...                                                ...  \n",
       "Michael Patrick Guest                        -0.243000  \n",
       "Zoe Lofgren                                  -0.254244  \n",
       "Neal Patrick MD, Facs Dunn                   -0.274375  \n",
       "James E. Banks                               -0.289677  \n",
       "W. Greg Steube                               -0.536000  \n",
       "\n",
       "[95 rows x 4 columns]"
      ]
     },
     "execution_count": 21,
     "metadata": {},
     "output_type": "execute_result"
    }
   ],
   "source": [
    "# look at top and bottom performers\n",
    "stock_perform.sort_values(by='performance_vs_avg_180days',ascending=False)\n"
   ]
  },
  {
   "cell_type": "markdown",
   "metadata": {},
   "source": [
    "We should probably drop the senators who only made one transaction."
   ]
  },
  {
   "cell_type": "code",
   "execution_count": 22,
   "metadata": {
    "ExecuteTime": {
     "end_time": "2021-06-11T19:27:02.289195Z",
     "start_time": "2021-06-11T19:27:02.284996Z"
    }
   },
   "outputs": [
    {
     "data": {
      "text/plain": [
       "0.025702607331895774"
      ]
     },
     "execution_count": 22,
     "metadata": {},
     "output_type": "execute_result"
    }
   ],
   "source": [
    "# measuring stock performance at 30 days, 60 days 90 days\n",
    "df_purchases['day_30_stock_perc_diff'].mean()"
   ]
  },
  {
   "cell_type": "code",
   "execution_count": 23,
   "metadata": {
    "ExecuteTime": {
     "end_time": "2021-06-11T19:27:02.295972Z",
     "start_time": "2021-06-11T19:27:02.291193Z"
    }
   },
   "outputs": [
    {
     "data": {
      "text/plain": [
       "0.02669594197216237"
      ]
     },
     "execution_count": 23,
     "metadata": {},
     "output_type": "execute_result"
    }
   ],
   "source": [
    "df_purchases['sp_30_sp_perc_diff'].mean()"
   ]
  },
  {
   "cell_type": "code",
   "execution_count": 24,
   "metadata": {
    "ExecuteTime": {
     "end_time": "2021-06-11T19:27:02.304042Z",
     "start_time": "2021-06-11T19:27:02.299345Z"
    }
   },
   "outputs": [
    {
     "data": {
      "text/plain": [
       "Index(['level_0', 'transaction_date', 'ticker', 'asset_description', 'type',\n",
       "       'amount', 'representative', 'timestamp', 'state', 'party_x',\n",
       "       'total_senate_years', 'total_house_years', 'total_years',\n",
       "       'total_raised', 'total_from_small_donors', 'percent_from_small_donors*',\n",
       "       'total_money_raised', 'start', 'day_30', 'day_30_stock_perc_diff',\n",
       "       'day_60', 'day_60_stock_perc_diff', 'day_90', 'day_90_stock_perc_diff',\n",
       "       'day_180', 'day_180_stock_perc_diff', 'sp_start', 'sp_30',\n",
       "       'sp_30_sp_perc_diff', 'sp_60', 'sp_60_sp_perc_diff', 'sp_90',\n",
       "       'sp_90_sp_perc_diff', 'sp_180', 'sp_180_sp_perc_diff'],\n",
       "      dtype='object')"
      ]
     },
     "execution_count": 24,
     "metadata": {},
     "output_type": "execute_result"
    }
   ],
   "source": [
    "df_purchases.columns"
   ]
  },
  {
   "cell_type": "code",
   "execution_count": 25,
   "metadata": {
    "ExecuteTime": {
     "end_time": "2021-06-11T19:27:02.310357Z",
     "start_time": "2021-06-11T19:27:02.306011Z"
    },
    "scrolled": false
   },
   "outputs": [],
   "source": [
    "# clean dataframe for analysis\n",
    "# drop congressmen with less than 3 transactions.\n",
    "# our high performer and low performers only \n",
    "stock_perform_sorted = stock_perform[stock_perform['stock_transactions']>=3].sort_values(by='performance_vs_avg_180days',ascending=False)"
   ]
  },
  {
   "cell_type": "code",
   "execution_count": 26,
   "metadata": {
    "ExecuteTime": {
     "end_time": "2021-06-11T19:27:02.316799Z",
     "start_time": "2021-06-11T19:27:02.312493Z"
    }
   },
   "outputs": [],
   "source": [
    "# save congressmen sorted by best investments over the s&p500 (average) at the same time\n",
    "\n",
    "stock_perform_sorted = stock_perform[stock_perform['stock_transactions']>=5].sort_values(by='performance_vs_avg_180days',ascending=False)"
   ]
  },
  {
   "cell_type": "code",
   "execution_count": 27,
   "metadata": {
    "ExecuteTime": {
     "end_time": "2021-06-11T19:27:02.322443Z",
     "start_time": "2021-06-11T19:27:02.318588Z"
    }
   },
   "outputs": [
    {
     "data": {
      "text/plain": [
       "0.14858232594517998"
      ]
     },
     "execution_count": 27,
     "metadata": {},
     "output_type": "execute_result"
    }
   ],
   "source": [
    "stock_perform_sorted['day_180_avg_sp_perc_diff'].mean()"
   ]
  },
  {
   "cell_type": "code",
   "execution_count": 28,
   "metadata": {
    "ExecuteTime": {
     "end_time": "2021-06-11T19:27:02.849236Z",
     "start_time": "2021-06-11T19:27:02.330042Z"
    }
   },
   "outputs": [
    {
     "data": {
      "image/png": "[encoded data removed]",
      "text/plain": [
       "<Figure size 432x288 with 4 Axes>"
      ]
     },
     "metadata": {
      "needs_background": "light"
     },
     "output_type": "display_data"
    }
   ],
   "source": [
    "# distirbutions of stock performance\n",
    "stock_perform.hist();"
   ]
  },
  {
   "cell_type": "markdown",
   "metadata": {},
   "source": [
    "Our stock transactions have a right skew, and the 180 days average for the S&P 500 index (value of the biggest companies) has a bimodal distribution that is approximately normal in shape."
   ]
  },
  {
   "cell_type": "code",
   "execution_count": 29,
   "metadata": {
    "ExecuteTime": {
     "end_time": "2021-06-11T19:27:05.864228Z",
     "start_time": "2021-06-11T19:27:02.852140Z"
    }
   },
   "outputs": [
    {
     "data": {
      "image/png": "[encoded data removed]",
      "text/plain": [
       "<Figure size 720x720 with 20 Axes>"
      ]
     },
     "metadata": {
      "needs_background": "light"
     },
     "output_type": "display_data"
    }
   ],
   "source": [
    "# correlations\n",
    "sns.pairplot(stock_perform);"
   ]
  },
  {
   "cell_type": "markdown",
   "metadata": {},
   "source": [
    "There doesn't appear to be a strong correlation between our variables that are not congressional stocks or the S&P 500."
   ]
  },
  {
   "cell_type": "code",
   "execution_count": 30,
   "metadata": {
    "ExecuteTime": {
     "end_time": "2021-06-11T19:27:05.869854Z",
     "start_time": "2021-06-11T19:27:05.866099Z"
    }
   },
   "outputs": [
    {
     "data": {
      "text/plain": [
       "Index(['Brian Mast', 'Doug Lamborn', 'Michael Garcia', 'Alan S. Lowenthal',\n",
       "       'Roger W. Marshall'],\n",
       "      dtype='object', name='representative')"
      ]
     },
     "execution_count": 30,
     "metadata": {},
     "output_type": "execute_result"
    }
   ],
   "source": [
    "stock_perform_sorted.index[:5]"
   ]
  },
  {
   "cell_type": "code",
   "execution_count": 31,
   "metadata": {
    "ExecuteTime": {
     "end_time": "2021-06-11T19:27:05.892096Z",
     "start_time": "2021-06-11T19:27:05.871971Z"
    }
   },
   "outputs": [
    {
     "data": {
      "text/html": [
       "<div>\n",
       "<style scoped>\n",
       "    .dataframe tbody tr th:only-of-type {\n",
       "        vertical-align: middle;\n",
       "    }\n",
       "\n",
       "    .dataframe tbody tr th {\n",
       "        vertical-align: top;\n",
       "    }\n",
       "\n",
       "    .dataframe thead th {\n",
       "        text-align: right;\n",
       "    }\n",
       "</style>\n",
       "<table border=\"1\" class=\"dataframe\">\n",
       "  <thead>\n",
       "    <tr style=\"text-align: right;\">\n",
       "      <th></th>\n",
       "      <th>level_0</th>\n",
       "      <th>transaction_date</th>\n",
       "      <th>ticker</th>\n",
       "      <th>asset_description</th>\n",
       "      <th>type</th>\n",
       "      <th>amount</th>\n",
       "      <th>representative</th>\n",
       "      <th>timestamp</th>\n",
       "      <th>state</th>\n",
       "      <th>party_x</th>\n",
       "      <th>...</th>\n",
       "      <th>day_180_stock_perc_diff</th>\n",
       "      <th>sp_start</th>\n",
       "      <th>sp_30</th>\n",
       "      <th>sp_30_sp_perc_diff</th>\n",
       "      <th>sp_60</th>\n",
       "      <th>sp_60_sp_perc_diff</th>\n",
       "      <th>sp_90</th>\n",
       "      <th>sp_90_sp_perc_diff</th>\n",
       "      <th>sp_180</th>\n",
       "      <th>sp_180_sp_perc_diff</th>\n",
       "    </tr>\n",
       "  </thead>\n",
       "  <tbody>\n",
       "    <tr>\n",
       "      <th>1</th>\n",
       "      <td>1</td>\n",
       "      <td>2020-03-24</td>\n",
       "      <td>CNC</td>\n",
       "      <td>Centene Corporation</td>\n",
       "      <td>purchase</td>\n",
       "      <td>$1,001 - $15,000</td>\n",
       "      <td>Susie Lee</td>\n",
       "      <td>1585022400</td>\n",
       "      <td>Nevada</td>\n",
       "      <td>Democratic</td>\n",
       "      <td>...</td>\n",
       "      <td>0.254</td>\n",
       "      <td>2447.330078</td>\n",
       "      <td>2797.800049</td>\n",
       "      <td>0.143</td>\n",
       "      <td>2955.449951</td>\n",
       "      <td>0.208</td>\n",
       "      <td>3083.76001</td>\n",
       "      <td>0.26</td>\n",
       "      <td>3319.469971</td>\n",
       "      <td>0.356</td>\n",
       "    </tr>\n",
       "  </tbody>\n",
       "</table>\n",
       "<p>1 rows × 35 columns</p>\n",
       "</div>"
      ],
      "text/plain": [
       "   level_0 transaction_date ticker    asset_description      type  \\\n",
       "1        1       2020-03-24    CNC  Centene Corporation  purchase   \n",
       "\n",
       "             amount representative   timestamp   state     party_x  ...  \\\n",
       "1  $1,001 - $15,000      Susie Lee  1585022400  Nevada  Democratic  ...   \n",
       "\n",
       "   day_180_stock_perc_diff     sp_start        sp_30 sp_30_sp_perc_diff  \\\n",
       "1                    0.254  2447.330078  2797.800049              0.143   \n",
       "\n",
       "         sp_60 sp_60_sp_perc_diff       sp_90  sp_90_sp_perc_diff  \\\n",
       "1  2955.449951              0.208  3083.76001                0.26   \n",
       "\n",
       "        sp_180  sp_180_sp_perc_diff  \n",
       "1  3319.469971                0.356  \n",
       "\n",
       "[1 rows x 35 columns]"
      ]
     },
     "execution_count": 31,
     "metadata": {},
     "output_type": "execute_result"
    }
   ],
   "source": [
    "df_purchases.head(1)"
   ]
  },
  {
   "cell_type": "code",
   "execution_count": 32,
   "metadata": {
    "ExecuteTime": {
     "end_time": "2021-06-11T19:27:06.245699Z",
     "start_time": "2021-06-11T19:27:05.893861Z"
    },
    "scrolled": false
   },
   "outputs": [
    {
     "data": {
      "image/png": "[encoded data removed]",
      "text/plain": [
       "<Figure size 576x432 with 1 Axes>"
      ]
     },
     "metadata": {
      "needs_background": "light"
     },
     "output_type": "display_data"
    }
   ],
   "source": [
    "# visualizations\n",
    "\n",
    "# top 10 congress performers\n",
    "\n",
    "# get grouped returns by person (fill with columns as needed)\n",
    "values = stock_perform_sorted[:10]\n",
    "\n",
    "#getting names of top 5 reps\n",
    "barchart_names = values.index[:10]\n",
    "labels = [col for col in barchart_names]\n",
    "#getting corresponding names \n",
    "lst_one = [item for item in values.day_180_avg_stock_perc_diff[:10].values]\n",
    "lst_two =  [item for item in values.day_180_avg_sp_perc_diff[:10].values]\n",
    "#make labels and bar locations\n",
    "x = np.arange(len(labels))  # the label locations\n",
    "width = 0.4  # the width of the bars\n",
    "# plot both columns next to eachother \n",
    "fig, ax = plt.subplots(figsize = (8, 6))\n",
    "rects1 = ax.bar(x - width/2, lst_one, width, label='Congress Percent Returns', color = 'firebrick')\n",
    "rects2 = ax.bar(x + width/2, lst_two, width, label='S&P500 Percent Returns ', color = 'dodgerblue')\n",
    "# Add some text for labels, title and custom x-axis tick labels, etc.\n",
    "ax.set_ylabel('Percent Returns', fontsize = 12, labelpad = 10)\n",
    "ax.set_xlabel('People', fontsize = 15, labelpad = 20)\n",
    "# setting up the graph\n",
    "#ax.set_ylim([.05,.3])\n",
    "ax.set_xticks(x)\n",
    "ax.set_xticklabels(labels, fontsize = 12, rotation=45)\n",
    "ax.legend(loc = (0.33, .85), fontsize = 13, facecolor = 'white')\n",
    "ax.set_facecolor('white')\n",
    "fig.tight_layout()\n",
    "plt.show();"
   ]
  },
  {
   "cell_type": "code",
   "execution_count": 33,
   "metadata": {
    "ExecuteTime": {
     "end_time": "2021-06-11T19:27:06.257234Z",
     "start_time": "2021-06-11T19:27:06.247698Z"
    }
   },
   "outputs": [
    {
     "data": {
      "text/html": [
       "<div>\n",
       "<style scoped>\n",
       "    .dataframe tbody tr th:only-of-type {\n",
       "        vertical-align: middle;\n",
       "    }\n",
       "\n",
       "    .dataframe tbody tr th {\n",
       "        vertical-align: top;\n",
       "    }\n",
       "\n",
       "    .dataframe thead th {\n",
       "        text-align: right;\n",
       "    }\n",
       "</style>\n",
       "<table border=\"1\" class=\"dataframe\">\n",
       "  <thead>\n",
       "    <tr style=\"text-align: right;\">\n",
       "      <th></th>\n",
       "      <th>day_180_avg_stock_perc_diff</th>\n",
       "      <th>day_180_avg_sp_perc_diff</th>\n",
       "      <th>stock_transactions</th>\n",
       "      <th>performance_vs_avg_180days</th>\n",
       "    </tr>\n",
       "    <tr>\n",
       "      <th>representative</th>\n",
       "      <th></th>\n",
       "      <th></th>\n",
       "      <th></th>\n",
       "      <th></th>\n",
       "    </tr>\n",
       "  </thead>\n",
       "  <tbody>\n",
       "    <tr>\n",
       "      <th>Brian Mast</th>\n",
       "      <td>0.773429</td>\n",
       "      <td>0.112526</td>\n",
       "      <td>7</td>\n",
       "      <td>0.660902</td>\n",
       "    </tr>\n",
       "    <tr>\n",
       "      <th>Doug Lamborn</th>\n",
       "      <td>0.629000</td>\n",
       "      <td>0.193214</td>\n",
       "      <td>6</td>\n",
       "      <td>0.435786</td>\n",
       "    </tr>\n",
       "    <tr>\n",
       "      <th>Michael Garcia</th>\n",
       "      <td>0.520333</td>\n",
       "      <td>0.173091</td>\n",
       "      <td>9</td>\n",
       "      <td>0.347242</td>\n",
       "    </tr>\n",
       "    <tr>\n",
       "      <th>Alan S. Lowenthal</th>\n",
       "      <td>0.476148</td>\n",
       "      <td>0.183083</td>\n",
       "      <td>108</td>\n",
       "      <td>0.293066</td>\n",
       "    </tr>\n",
       "    <tr>\n",
       "      <th>Roger W. Marshall</th>\n",
       "      <td>0.286933</td>\n",
       "      <td>0.093958</td>\n",
       "      <td>15</td>\n",
       "      <td>0.192975</td>\n",
       "    </tr>\n",
       "    <tr>\n",
       "      <th>Nancy Pelosi</th>\n",
       "      <td>0.286929</td>\n",
       "      <td>0.115407</td>\n",
       "      <td>14</td>\n",
       "      <td>0.171521</td>\n",
       "    </tr>\n",
       "    <tr>\n",
       "      <th>James R. Langevin</th>\n",
       "      <td>0.250643</td>\n",
       "      <td>0.099538</td>\n",
       "      <td>28</td>\n",
       "      <td>0.151104</td>\n",
       "    </tr>\n",
       "    <tr>\n",
       "      <th>John Rutherford</th>\n",
       "      <td>0.274933</td>\n",
       "      <td>0.166000</td>\n",
       "      <td>15</td>\n",
       "      <td>0.108933</td>\n",
       "    </tr>\n",
       "    <tr>\n",
       "      <th>Adam Kinzinger</th>\n",
       "      <td>0.319846</td>\n",
       "      <td>0.221000</td>\n",
       "      <td>13</td>\n",
       "      <td>0.098846</td>\n",
       "    </tr>\n",
       "    <tr>\n",
       "      <th>Angus S King, Jr.</th>\n",
       "      <td>0.160400</td>\n",
       "      <td>0.066593</td>\n",
       "      <td>5</td>\n",
       "      <td>0.093807</td>\n",
       "    </tr>\n",
       "  </tbody>\n",
       "</table>\n",
       "</div>"
      ],
      "text/plain": [
       "                   day_180_avg_stock_perc_diff  day_180_avg_sp_perc_diff  \\\n",
       "representative                                                             \n",
       "Brian Mast                            0.773429                  0.112526   \n",
       "Doug Lamborn                          0.629000                  0.193214   \n",
       "Michael Garcia                        0.520333                  0.173091   \n",
       "Alan S. Lowenthal                     0.476148                  0.183083   \n",
       "Roger W. Marshall                     0.286933                  0.093958   \n",
       "Nancy Pelosi                          0.286929                  0.115407   \n",
       "James R. Langevin                     0.250643                  0.099538   \n",
       "John Rutherford                       0.274933                  0.166000   \n",
       "Adam Kinzinger                        0.319846                  0.221000   \n",
       "Angus S King, Jr.                     0.160400                  0.066593   \n",
       "\n",
       "                   stock_transactions  performance_vs_avg_180days  \n",
       "representative                                                     \n",
       "Brian Mast                          7                    0.660902  \n",
       "Doug Lamborn                        6                    0.435786  \n",
       "Michael Garcia                      9                    0.347242  \n",
       "Alan S. Lowenthal                 108                    0.293066  \n",
       "Roger W. Marshall                  15                    0.192975  \n",
       "Nancy Pelosi                       14                    0.171521  \n",
       "James R. Langevin                  28                    0.151104  \n",
       "John Rutherford                    15                    0.108933  \n",
       "Adam Kinzinger                     13                    0.098846  \n",
       "Angus S King, Jr.                   5                    0.093807  "
      ]
     },
     "execution_count": 33,
     "metadata": {},
     "output_type": "execute_result"
    }
   ],
   "source": [
    "# view of top performers\n",
    "stock_perform_sorted[:10]"
   ]
  },
  {
   "cell_type": "code",
   "execution_count": 34,
   "metadata": {
    "ExecuteTime": {
     "end_time": "2021-06-11T19:27:06.267516Z",
     "start_time": "2021-06-11T19:27:06.258916Z"
    }
   },
   "outputs": [
    {
     "data": {
      "text/html": [
       "<div>\n",
       "<style scoped>\n",
       "    .dataframe tbody tr th:only-of-type {\n",
       "        vertical-align: middle;\n",
       "    }\n",
       "\n",
       "    .dataframe tbody tr th {\n",
       "        vertical-align: top;\n",
       "    }\n",
       "\n",
       "    .dataframe thead th {\n",
       "        text-align: right;\n",
       "    }\n",
       "</style>\n",
       "<table border=\"1\" class=\"dataframe\">\n",
       "  <thead>\n",
       "    <tr style=\"text-align: right;\">\n",
       "      <th></th>\n",
       "      <th>day_180_avg_stock_perc_diff</th>\n",
       "      <th>day_180_avg_sp_perc_diff</th>\n",
       "      <th>stock_transactions</th>\n",
       "      <th>performance_vs_avg_180days</th>\n",
       "    </tr>\n",
       "    <tr>\n",
       "      <th>representative</th>\n",
       "      <th></th>\n",
       "      <th></th>\n",
       "      <th></th>\n",
       "      <th></th>\n",
       "    </tr>\n",
       "  </thead>\n",
       "  <tbody>\n",
       "    <tr>\n",
       "      <th>Michael K. Simpson</th>\n",
       "      <td>0.050500</td>\n",
       "      <td>0.264000</td>\n",
       "      <td>6</td>\n",
       "      <td>-0.213500</td>\n",
       "    </tr>\n",
       "    <tr>\n",
       "      <th>Virginia Foxx</th>\n",
       "      <td>-0.068214</td>\n",
       "      <td>0.159733</td>\n",
       "      <td>28</td>\n",
       "      <td>-0.227948</td>\n",
       "    </tr>\n",
       "    <tr>\n",
       "      <th>Zoe Lofgren</th>\n",
       "      <td>0.173667</td>\n",
       "      <td>0.427910</td>\n",
       "      <td>6</td>\n",
       "      <td>-0.254244</td>\n",
       "    </tr>\n",
       "    <tr>\n",
       "      <th>James E. Banks</th>\n",
       "      <td>-0.155077</td>\n",
       "      <td>0.134600</td>\n",
       "      <td>13</td>\n",
       "      <td>-0.289677</td>\n",
       "    </tr>\n",
       "  </tbody>\n",
       "</table>\n",
       "</div>"
      ],
      "text/plain": [
       "                    day_180_avg_stock_perc_diff  day_180_avg_sp_perc_diff  \\\n",
       "representative                                                              \n",
       "Michael K. Simpson                     0.050500                  0.264000   \n",
       "Virginia Foxx                         -0.068214                  0.159733   \n",
       "Zoe Lofgren                            0.173667                  0.427910   \n",
       "James E. Banks                        -0.155077                  0.134600   \n",
       "\n",
       "                    stock_transactions  performance_vs_avg_180days  \n",
       "representative                                                      \n",
       "Michael K. Simpson                   6                   -0.213500  \n",
       "Virginia Foxx                       28                   -0.227948  \n",
       "Zoe Lofgren                          6                   -0.254244  \n",
       "James E. Banks                      13                   -0.289677  "
      ]
     },
     "execution_count": 34,
     "metadata": {},
     "output_type": "execute_result"
    }
   ],
   "source": [
    "values = stock_perform_sorted[64:74]\n",
    "values"
   ]
  },
  {
   "cell_type": "markdown",
   "metadata": {},
   "source": [
    "The middle 10 congressmen only have a sleight improvment over the market performance."
   ]
  },
  {
   "cell_type": "code",
   "execution_count": 35,
   "metadata": {
    "ExecuteTime": {
     "end_time": "2021-06-11T19:27:06.272932Z",
     "start_time": "2021-06-11T19:27:06.269237Z"
    }
   },
   "outputs": [
    {
     "data": {
      "text/plain": [
       "1.4323626425092755"
      ]
     },
     "execution_count": 35,
     "metadata": {},
     "output_type": "execute_result"
    }
   ],
   "source": [
    "# Congress' Average performance over the market\n",
    "stock_perform_sorted['performance_vs_avg_180days'].sum()"
   ]
  },
  {
   "cell_type": "code",
   "execution_count": 36,
   "metadata": {
    "ExecuteTime": {
     "end_time": "2021-06-11T19:27:06.280214Z",
     "start_time": "2021-06-11T19:27:06.274938Z"
    }
   },
   "outputs": [
    {
     "data": {
      "text/plain": [
       "<bound method Series.sum of representative\n",
       "Brian Mast             0.773429\n",
       "Doug Lamborn           0.629000\n",
       "Michael Garcia         0.520333\n",
       "Alan S. Lowenthal      0.476148\n",
       "Roger W. Marshall      0.286933\n",
       "                         ...   \n",
       "Carol Devine Miller    0.055737\n",
       "Michael K. Simpson     0.050500\n",
       "Virginia Foxx         -0.068214\n",
       "Zoe Lofgren            0.173667\n",
       "James E. Banks        -0.155077\n",
       "Name: day_180_avg_stock_perc_diff, Length: 68, dtype: float64>"
      ]
     },
     "execution_count": 36,
     "metadata": {},
     "output_type": "execute_result"
    }
   ],
   "source": [
    "# \n",
    "stock_perform_sorted['day_180_avg_stock_perc_diff'].sum"
   ]
  },
  {
   "cell_type": "code",
   "execution_count": 37,
   "metadata": {
    "ExecuteTime": {
     "end_time": "2021-06-11T19:27:06.288733Z",
     "start_time": "2021-06-11T19:27:06.282095Z"
    }
   },
   "outputs": [],
   "source": [
    "# convert date to datetime\n",
    "df['transaction_date'] = df['transaction_date'].astype('datetime64')"
   ]
  },
  {
   "cell_type": "code",
   "execution_count": 38,
   "metadata": {
    "ExecuteTime": {
     "end_time": "2021-06-11T19:51:12.219667Z",
     "start_time": "2021-06-11T19:51:11.848903Z"
    }
   },
   "outputs": [
    {
     "data": {
      "image/png": "[encoded data removed]",
      "text/plain": [
       "<Figure size 576x576 with 1 Axes>"
      ]
     },
     "metadata": {
      "needs_background": "light"
     },
     "output_type": "display_data"
    }
   ],
   "source": [
    "plt.figure(figsize = (8,8))\n",
    "plt.plot(df[(df['type'] == 'purchase') & (df['transaction_date'] > pd.to_datetime('2018-01-01'))& (df['transaction_date'] < pd.to_datetime('2020-05-01'))].groupby('transaction_date').count().index,\n",
    "         df[(df['type'] == 'purchase') & (df['transaction_date'] > pd.to_datetime('2018-01-01'))& (df['transaction_date'] < pd.to_datetime('2020-05-01'))].groupby('transaction_date').count())\n",
    "plt.title('Stock Purchased from 2018-2020')\n",
    "plt.ylabel('Number of Purchases')\n",
    "plt.xlabel('Date');"
   ]
  },
  {
   "cell_type": "code",
   "execution_count": 39,
   "metadata": {
    "ExecuteTime": {
     "end_time": "2021-06-11T19:51:24.018002Z",
     "start_time": "2021-06-11T19:51:23.681791Z"
    }
   },
   "outputs": [
    {
     "data": {
      "image/png": "[encoded data removed]",
      "text/plain": [
       "<Figure size 576x576 with 1 Axes>"
      ]
     },
     "metadata": {
      "needs_background": "light"
     },
     "output_type": "display_data"
    }
   ],
   "source": [
    "plt.figure(figsize = (8,8))\n",
    "plt.plot(df[(df['type'] != 'purchase') & (df['transaction_date'] > pd.to_datetime('2018-01-01'))& (df['transaction_date'] < pd.to_datetime('2020-05-01'))].groupby('transaction_date').count().index,\n",
    "         df[(df['type'] != 'purchase') & (df['transaction_date'] > pd.to_datetime('2018-01-01'))& (df['transaction_date'] < pd.to_datetime('2020-05-01'))].groupby('transaction_date').count() )\n",
    "plt.title('Stock Sales from 2018-2020')\n",
    "plt.ylabel('Number of Sales')\n",
    "plt.xlabel('Date');"
   ]
  },
  {
   "cell_type": "code",
   "execution_count": 40,
   "metadata": {
    "ExecuteTime": {
     "end_time": "2021-06-11T19:27:06.961857Z",
     "start_time": "2021-06-11T19:27:06.956312Z"
    }
   },
   "outputs": [
    {
     "data": {
      "text/plain": [
       "representative\n",
       "David A Perdue , Jr      797\n",
       "Sheldon Whitehouse       296\n",
       "Gilbert Cisneros         278\n",
       "Greg Gianforte           274\n",
       "Mark Green               232\n",
       "Pat Roberts              218\n",
       "Dean Phillips            179\n",
       "Josh Gottheimer          176\n",
       "Shelley M Capito         175\n",
       "Donald Sternoff Beyer    162\n",
       "Thomas R Carper          160\n",
       "Ron L Wyden              157\n",
       "Susie Lee                142\n",
       "Donna Shalala            112\n",
       "John Hoeven              111\n",
       "Alan S. Lowenthal        108\n",
       "Susan M Collins          101\n",
       "Kelly Loeffler            88\n",
       "Kevin Hern                77\n",
       "James M Inhofe            64\n",
       "Name: stock_transactions, dtype: int64"
      ]
     },
     "execution_count": 40,
     "metadata": {},
     "output_type": "execute_result"
    }
   ],
   "source": [
    "stock_perform['stock_transactions'].sort_values(ascending=False)[:20]"
   ]
  },
  {
   "cell_type": "code",
   "execution_count": 41,
   "metadata": {
    "ExecuteTime": {
     "end_time": "2021-06-11T19:27:07.318144Z",
     "start_time": "2021-06-11T19:27:06.963790Z"
    }
   },
   "outputs": [
    {
     "data": {
      "image/png": "[encoded data removed]",
      "text/plain": [
       "<Figure size 1152x576 with 1 Axes>"
      ]
     },
     "metadata": {
      "needs_background": "light"
     },
     "output_type": "display_data"
    }
   ],
   "source": [
    "purchase = df.loc[df['type'] == 'purchase']\n",
    "purchase_stocks = purchase.describe().loc['mean', ['day_30_stock_perc_diff', 'day_60_stock_perc_diff',\n",
    "                                 'day_90_stock_perc_diff', 'day_180_stock_perc_diff']]\n",
    "purchase_sp = purchase.describe().loc['mean', ['sp_30_sp_perc_diff', 'sp_60_sp_perc_diff',\n",
    "                                 'sp_90_sp_perc_diff', 'sp_180_sp_perc_diff']]\n",
    "plt.figure(figsize = (16, 8))\n",
    "plt.title('Average Returns of Congress vs the S&P 500', fontsize = 14)\n",
    "plt.bar([.8, 1.8, 2.8, 3.8], purchase_stocks, width = .4, label = 'Congress')\n",
    "plt.bar([1.2, 2.2, 3.2, 4.2], purchase_sp, width = .4, label = 'S&P 500')\n",
    "plt.xticks(ticks = [1, 2,3,4], labels = ['30_days', '60_days', '90_days', '180_days'])\n",
    "plt.ylabel('Average Percent Return', fontsize = 12)\n",
    "plt.xlabel('Time After Purchase', fontsize = 12)\n",
    "plt.legend();"
   ]
  },
  {
   "cell_type": "markdown",
   "metadata": {},
   "source": [
    "Congressmen did not beat the S&P 500 performance over the short-term (30 days), but did beat the S&P 500 average over a span of six months (180 days) by around 4.88%.  "
   ]
  },
  {
   "cell_type": "code",
   "execution_count": 42,
   "metadata": {
    "ExecuteTime": {
     "end_time": "2021-06-11T19:27:07.643770Z",
     "start_time": "2021-06-11T19:27:07.319838Z"
    }
   },
   "outputs": [
    {
     "data": {
      "image/png": "[encoded data removed]",
      "text/plain": [
       "<Figure size 576x576 with 1 Axes>"
      ]
     },
     "metadata": {
      "needs_background": "light"
     },
     "output_type": "display_data"
    }
   ],
   "source": [
    "plt.figure(figsize = (8,8))\n",
    "values = stock_perform['stock_transactions'].sort_values(ascending=False)[:20]\n",
    "\n",
    "#getting names of middle 10 reps\n",
    "barchart_names = values.index[:20]\n",
    "\n",
    "# setting up graph\n",
    "height = values\n",
    "labels = [col for col in barchart_names]\n",
    "y_pos = np.arange(len(labels))\n",
    "\n",
    "#create horizontal bars\n",
    "plt.barh(y_pos, height)\n",
    "\n",
    "# create names on teh x_axis\n",
    "plt.yticks(y_pos, labels)\n",
    "plt.title('Most Trades, 2013-2020')\n",
    "plt.show()"
   ]
  },
  {
   "cell_type": "markdown",
   "metadata": {},
   "source": [
    "David Perdue sold ~2.5x more stocks than the next highest Congressmen. This is a very rapid rate.  His total number of stock transactions is over 1600.\n",
    "\n",
    "Data range:  2013-03-15 through 2020-11-24\n"
   ]
  },
  {
   "cell_type": "code",
   "execution_count": null,
   "metadata": {},
   "outputs": [],
   "source": []
  }
 ],
 "metadata": {
  "kernelspec": {
   "display_name": "Python 3",
   "language": "python",
   "name": "python3"
  },
  "language_info": {
   "codemirror_mode": {
    "name": "ipython",
    "version": 3
   },
   "file_extension": ".py",
   "mimetype": "text/x-python",
   "name": "python",
   "nbconvert_exporter": "python",
   "pygments_lexer": "ipython3",
   "version": "3.8.5"
  }
 },
 "nbformat": 4,
 "nbformat_minor": 4
}
